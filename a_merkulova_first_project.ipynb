{
 "cells": [
  {
   "cell_type": "code",
   "execution_count": 1,
   "metadata": {},
   "outputs": [],
   "source": [
    "import pandas as pd\n",
    "import seaborn as sns\n",
    "import matplotlib.pyplot as plt\n",
    "import numpy as np"
   ]
  },
  {
   "cell_type": "code",
   "execution_count": 2,
   "metadata": {},
   "outputs": [],
   "source": [
    "# Анализ e-learning 4 базы данных.\n",
    "\n",
    "# assessments.csv — этот файл содержит информацию об оценках в тесте. \n",
    "#     Обычно каждый предмет в семестре включает ряд тестов с оценками, \n",
    "#     за которыми следует заключительный экзаменационный тест (экзамен).\n",
    "\n",
    "#       code_module — идентификационный код предмета.\n",
    "#       code_presentation — семестр (Идентификационный код).\n",
    "#       id_assessment — тест (Идентификационный номер ассессмента).\n",
    "#       assessment_type — тип теста. Существуют три типа оценивания: \n",
    "#                         оценка преподавателя (TMA), компьютерная оценка (СМА), экзамен по курсу (Exam).\n",
    "#       date — информация об окончательной дате сдачи теста. \n",
    "#               Рассчитывается как количество дней с момента начала семестра. Дата начала семестра имеет номер 0 (ноль).\n",
    "#       weight — вес теста в % в оценке за курс. Обычно экзамены рассматриваются отдельно и имеют вес 100%; \n",
    "#                   сумма всех остальных оценок составляет 100%.\n",
    "\n",
    "# courses.csv — файл содержит список предметов по семестрам.\n",
    "\n",
    "#       code_module — предмет (идентификационный код).\n",
    "#       code_presentation — семестр (идентификационный код).\n",
    "#       module_presentation_length — продолжительность семестра в днях.\n",
    "\n",
    "# studentAssessment.csv — этот файл содержит результаты тестов студентов. \n",
    "#                         Если учащийся не отправляет работу на оценку, результат не записывается в таблицу.\n",
    "#       id_assessment — тест (идентификационный номер).\n",
    "#       id_student — идентификационный номер студента.\n",
    "#       date_submitted — дата сдачи теста студентом, измеряемая как количество дней с начала семестра.\n",
    "#       is_banked — факт перезачета теста с прошлого семестра \n",
    "#                  (иногда курсы перезачитывают студентам, вернувшимся из академического отпуска).\n",
    "#       score — оценка учащегося в этом тесте. Диапазон составляет от 0 до 100. \n",
    "#               Оценка ниже 40 неудачная/неуспешная сдача теста.\n",
    "\n",
    "# studentRegistration.csv — этот файл содержит информацию о времени, \n",
    "#                           когда студент зарегистрировался для прохождения курса в семестре.\n",
    "#       code_module — предмет (идентификационный код).\n",
    "#       code_presentation — семестр (идентификационный код)\n",
    "#       id_student — идентификационный номер студента.\n",
    "#       date_registration — дата регистрации студента. \n",
    "#                           Это количество дней, измеренное от начала семестра \n",
    "#                           (например, отрицательное значение -30 означает, \n",
    "#                           что студент зарегистрировался на прохождение курса за 30 дней до его начала).\n",
    "#       date_unregistration — дата отмены регистрации студента с предмета. \n",
    "#                             У студентов, окончивших курс, это поле остается пустым."
   ]
  },
  {
   "cell_type": "code",
   "execution_count": 3,
   "metadata": {},
   "outputs": [],
   "source": [
    "# Считываем данные \n",
    "assessments = pd.read_csv('assessments.csv')\n",
    "\n",
    "courses = pd.read_csv('courses.csv')\n",
    "\n",
    "studentAssessment = pd.read_csv('studentAssessment.csv')\n",
    "\n",
    "studentRegistration = pd.read_csv('studentRegistration.csv')"
   ]
  },
  {
   "cell_type": "code",
   "execution_count": 4,
   "metadata": {},
   "outputs": [],
   "source": [
    "# Смотрим размер всех таблиц, их вид и описание типов данных, пропущенные значения, дубликаты"
   ]
  },
  {
   "cell_type": "code",
   "execution_count": 5,
   "metadata": {},
   "outputs": [
    {
     "data": {
      "text/plain": [
       "(206, 6)"
      ]
     },
     "execution_count": 5,
     "metadata": {},
     "output_type": "execute_result"
    }
   ],
   "source": [
    "assessments.shape"
   ]
  },
  {
   "cell_type": "code",
   "execution_count": 6,
   "metadata": {},
   "outputs": [
    {
     "data": {
      "text/html": [
       "<div>\n",
       "<style scoped>\n",
       "    .dataframe tbody tr th:only-of-type {\n",
       "        vertical-align: middle;\n",
       "    }\n",
       "\n",
       "    .dataframe tbody tr th {\n",
       "        vertical-align: top;\n",
       "    }\n",
       "\n",
       "    .dataframe thead th {\n",
       "        text-align: right;\n",
       "    }\n",
       "</style>\n",
       "<table border=\"1\" class=\"dataframe\">\n",
       "  <thead>\n",
       "    <tr style=\"text-align: right;\">\n",
       "      <th></th>\n",
       "      <th>code_module</th>\n",
       "      <th>code_presentation</th>\n",
       "      <th>id_assessment</th>\n",
       "      <th>assessment_type</th>\n",
       "      <th>date</th>\n",
       "      <th>weight</th>\n",
       "    </tr>\n",
       "  </thead>\n",
       "  <tbody>\n",
       "    <tr>\n",
       "      <th>0</th>\n",
       "      <td>AAA</td>\n",
       "      <td>2013J</td>\n",
       "      <td>1752</td>\n",
       "      <td>TMA</td>\n",
       "      <td>19.0</td>\n",
       "      <td>10.0</td>\n",
       "    </tr>\n",
       "    <tr>\n",
       "      <th>1</th>\n",
       "      <td>AAA</td>\n",
       "      <td>2013J</td>\n",
       "      <td>1753</td>\n",
       "      <td>TMA</td>\n",
       "      <td>54.0</td>\n",
       "      <td>20.0</td>\n",
       "    </tr>\n",
       "    <tr>\n",
       "      <th>2</th>\n",
       "      <td>AAA</td>\n",
       "      <td>2013J</td>\n",
       "      <td>1754</td>\n",
       "      <td>TMA</td>\n",
       "      <td>117.0</td>\n",
       "      <td>20.0</td>\n",
       "    </tr>\n",
       "    <tr>\n",
       "      <th>3</th>\n",
       "      <td>AAA</td>\n",
       "      <td>2013J</td>\n",
       "      <td>1755</td>\n",
       "      <td>TMA</td>\n",
       "      <td>166.0</td>\n",
       "      <td>20.0</td>\n",
       "    </tr>\n",
       "    <tr>\n",
       "      <th>4</th>\n",
       "      <td>AAA</td>\n",
       "      <td>2013J</td>\n",
       "      <td>1756</td>\n",
       "      <td>TMA</td>\n",
       "      <td>215.0</td>\n",
       "      <td>30.0</td>\n",
       "    </tr>\n",
       "  </tbody>\n",
       "</table>\n",
       "</div>"
      ],
      "text/plain": [
       "  code_module code_presentation  id_assessment assessment_type   date  weight\n",
       "0         AAA             2013J           1752             TMA   19.0    10.0\n",
       "1         AAA             2013J           1753             TMA   54.0    20.0\n",
       "2         AAA             2013J           1754             TMA  117.0    20.0\n",
       "3         AAA             2013J           1755             TMA  166.0    20.0\n",
       "4         AAA             2013J           1756             TMA  215.0    30.0"
      ]
     },
     "execution_count": 6,
     "metadata": {},
     "output_type": "execute_result"
    }
   ],
   "source": [
    "assessments.head()"
   ]
  },
  {
   "cell_type": "code",
   "execution_count": 7,
   "metadata": {},
   "outputs": [
    {
     "data": {
      "text/plain": [
       "(22, 3)"
      ]
     },
     "execution_count": 7,
     "metadata": {},
     "output_type": "execute_result"
    }
   ],
   "source": [
    "courses.shape"
   ]
  },
  {
   "cell_type": "code",
   "execution_count": 8,
   "metadata": {},
   "outputs": [
    {
     "data": {
      "text/html": [
       "<div>\n",
       "<style scoped>\n",
       "    .dataframe tbody tr th:only-of-type {\n",
       "        vertical-align: middle;\n",
       "    }\n",
       "\n",
       "    .dataframe tbody tr th {\n",
       "        vertical-align: top;\n",
       "    }\n",
       "\n",
       "    .dataframe thead th {\n",
       "        text-align: right;\n",
       "    }\n",
       "</style>\n",
       "<table border=\"1\" class=\"dataframe\">\n",
       "  <thead>\n",
       "    <tr style=\"text-align: right;\">\n",
       "      <th></th>\n",
       "      <th>code_module</th>\n",
       "      <th>code_presentation</th>\n",
       "      <th>module_presentation_length</th>\n",
       "    </tr>\n",
       "  </thead>\n",
       "  <tbody>\n",
       "    <tr>\n",
       "      <th>0</th>\n",
       "      <td>AAA</td>\n",
       "      <td>2013J</td>\n",
       "      <td>268</td>\n",
       "    </tr>\n",
       "    <tr>\n",
       "      <th>1</th>\n",
       "      <td>AAA</td>\n",
       "      <td>2014J</td>\n",
       "      <td>269</td>\n",
       "    </tr>\n",
       "    <tr>\n",
       "      <th>2</th>\n",
       "      <td>BBB</td>\n",
       "      <td>2013J</td>\n",
       "      <td>268</td>\n",
       "    </tr>\n",
       "    <tr>\n",
       "      <th>3</th>\n",
       "      <td>BBB</td>\n",
       "      <td>2014J</td>\n",
       "      <td>262</td>\n",
       "    </tr>\n",
       "    <tr>\n",
       "      <th>4</th>\n",
       "      <td>BBB</td>\n",
       "      <td>2013B</td>\n",
       "      <td>240</td>\n",
       "    </tr>\n",
       "  </tbody>\n",
       "</table>\n",
       "</div>"
      ],
      "text/plain": [
       "  code_module code_presentation  module_presentation_length\n",
       "0         AAA             2013J                         268\n",
       "1         AAA             2014J                         269\n",
       "2         BBB             2013J                         268\n",
       "3         BBB             2014J                         262\n",
       "4         BBB             2013B                         240"
      ]
     },
     "execution_count": 8,
     "metadata": {},
     "output_type": "execute_result"
    }
   ],
   "source": [
    "courses.head()"
   ]
  },
  {
   "cell_type": "code",
   "execution_count": 9,
   "metadata": {},
   "outputs": [
    {
     "data": {
      "text/plain": [
       "(173912, 5)"
      ]
     },
     "execution_count": 9,
     "metadata": {},
     "output_type": "execute_result"
    }
   ],
   "source": [
    "studentAssessment.shape"
   ]
  },
  {
   "cell_type": "code",
   "execution_count": 10,
   "metadata": {},
   "outputs": [
    {
     "data": {
      "text/html": [
       "<div>\n",
       "<style scoped>\n",
       "    .dataframe tbody tr th:only-of-type {\n",
       "        vertical-align: middle;\n",
       "    }\n",
       "\n",
       "    .dataframe tbody tr th {\n",
       "        vertical-align: top;\n",
       "    }\n",
       "\n",
       "    .dataframe thead th {\n",
       "        text-align: right;\n",
       "    }\n",
       "</style>\n",
       "<table border=\"1\" class=\"dataframe\">\n",
       "  <thead>\n",
       "    <tr style=\"text-align: right;\">\n",
       "      <th></th>\n",
       "      <th>id_assessment</th>\n",
       "      <th>id_student</th>\n",
       "      <th>date_submitted</th>\n",
       "      <th>is_banked</th>\n",
       "      <th>score</th>\n",
       "    </tr>\n",
       "  </thead>\n",
       "  <tbody>\n",
       "    <tr>\n",
       "      <th>0</th>\n",
       "      <td>1752</td>\n",
       "      <td>11391</td>\n",
       "      <td>18</td>\n",
       "      <td>0</td>\n",
       "      <td>78.0</td>\n",
       "    </tr>\n",
       "    <tr>\n",
       "      <th>1</th>\n",
       "      <td>1752</td>\n",
       "      <td>28400</td>\n",
       "      <td>22</td>\n",
       "      <td>0</td>\n",
       "      <td>70.0</td>\n",
       "    </tr>\n",
       "    <tr>\n",
       "      <th>2</th>\n",
       "      <td>1752</td>\n",
       "      <td>31604</td>\n",
       "      <td>17</td>\n",
       "      <td>0</td>\n",
       "      <td>72.0</td>\n",
       "    </tr>\n",
       "    <tr>\n",
       "      <th>3</th>\n",
       "      <td>1752</td>\n",
       "      <td>32885</td>\n",
       "      <td>26</td>\n",
       "      <td>0</td>\n",
       "      <td>69.0</td>\n",
       "    </tr>\n",
       "    <tr>\n",
       "      <th>4</th>\n",
       "      <td>1752</td>\n",
       "      <td>38053</td>\n",
       "      <td>19</td>\n",
       "      <td>0</td>\n",
       "      <td>79.0</td>\n",
       "    </tr>\n",
       "  </tbody>\n",
       "</table>\n",
       "</div>"
      ],
      "text/plain": [
       "   id_assessment  id_student  date_submitted  is_banked  score\n",
       "0           1752       11391              18          0   78.0\n",
       "1           1752       28400              22          0   70.0\n",
       "2           1752       31604              17          0   72.0\n",
       "3           1752       32885              26          0   69.0\n",
       "4           1752       38053              19          0   79.0"
      ]
     },
     "execution_count": 10,
     "metadata": {},
     "output_type": "execute_result"
    }
   ],
   "source": [
    "studentAssessment.head()"
   ]
  },
  {
   "cell_type": "code",
   "execution_count": 11,
   "metadata": {},
   "outputs": [
    {
     "data": {
      "text/plain": [
       "(32593, 5)"
      ]
     },
     "execution_count": 11,
     "metadata": {},
     "output_type": "execute_result"
    }
   ],
   "source": [
    "studentRegistration.shape"
   ]
  },
  {
   "cell_type": "code",
   "execution_count": 12,
   "metadata": {},
   "outputs": [
    {
     "data": {
      "text/html": [
       "<div>\n",
       "<style scoped>\n",
       "    .dataframe tbody tr th:only-of-type {\n",
       "        vertical-align: middle;\n",
       "    }\n",
       "\n",
       "    .dataframe tbody tr th {\n",
       "        vertical-align: top;\n",
       "    }\n",
       "\n",
       "    .dataframe thead th {\n",
       "        text-align: right;\n",
       "    }\n",
       "</style>\n",
       "<table border=\"1\" class=\"dataframe\">\n",
       "  <thead>\n",
       "    <tr style=\"text-align: right;\">\n",
       "      <th></th>\n",
       "      <th>code_module</th>\n",
       "      <th>code_presentation</th>\n",
       "      <th>id_student</th>\n",
       "      <th>date_registration</th>\n",
       "      <th>date_unregistration</th>\n",
       "    </tr>\n",
       "  </thead>\n",
       "  <tbody>\n",
       "    <tr>\n",
       "      <th>0</th>\n",
       "      <td>AAA</td>\n",
       "      <td>2013J</td>\n",
       "      <td>11391</td>\n",
       "      <td>-159.0</td>\n",
       "      <td>NaN</td>\n",
       "    </tr>\n",
       "    <tr>\n",
       "      <th>1</th>\n",
       "      <td>AAA</td>\n",
       "      <td>2013J</td>\n",
       "      <td>28400</td>\n",
       "      <td>-53.0</td>\n",
       "      <td>NaN</td>\n",
       "    </tr>\n",
       "    <tr>\n",
       "      <th>2</th>\n",
       "      <td>AAA</td>\n",
       "      <td>2013J</td>\n",
       "      <td>30268</td>\n",
       "      <td>-92.0</td>\n",
       "      <td>12.0</td>\n",
       "    </tr>\n",
       "    <tr>\n",
       "      <th>3</th>\n",
       "      <td>AAA</td>\n",
       "      <td>2013J</td>\n",
       "      <td>31604</td>\n",
       "      <td>-52.0</td>\n",
       "      <td>NaN</td>\n",
       "    </tr>\n",
       "    <tr>\n",
       "      <th>4</th>\n",
       "      <td>AAA</td>\n",
       "      <td>2013J</td>\n",
       "      <td>32885</td>\n",
       "      <td>-176.0</td>\n",
       "      <td>NaN</td>\n",
       "    </tr>\n",
       "  </tbody>\n",
       "</table>\n",
       "</div>"
      ],
      "text/plain": [
       "  code_module code_presentation  id_student  date_registration  \\\n",
       "0         AAA             2013J       11391             -159.0   \n",
       "1         AAA             2013J       28400              -53.0   \n",
       "2         AAA             2013J       30268              -92.0   \n",
       "3         AAA             2013J       31604              -52.0   \n",
       "4         AAA             2013J       32885             -176.0   \n",
       "\n",
       "   date_unregistration  \n",
       "0                  NaN  \n",
       "1                  NaN  \n",
       "2                 12.0  \n",
       "3                  NaN  \n",
       "4                  NaN  "
      ]
     },
     "execution_count": 12,
     "metadata": {},
     "output_type": "execute_result"
    }
   ],
   "source": [
    "studentRegistration.head()"
   ]
  },
  {
   "cell_type": "code",
   "execution_count": 13,
   "metadata": {},
   "outputs": [
    {
     "data": {
      "text/plain": [
       "code_module           object\n",
       "code_presentation     object\n",
       "id_assessment          int64\n",
       "assessment_type       object\n",
       "date                 float64\n",
       "weight               float64\n",
       "dtype: object"
      ]
     },
     "execution_count": 13,
     "metadata": {},
     "output_type": "execute_result"
    }
   ],
   "source": [
    "assessments.dtypes"
   ]
  },
  {
   "cell_type": "code",
   "execution_count": 14,
   "metadata": {},
   "outputs": [
    {
     "data": {
      "text/plain": [
       "code_module                   object\n",
       "code_presentation             object\n",
       "module_presentation_length     int64\n",
       "dtype: object"
      ]
     },
     "execution_count": 14,
     "metadata": {},
     "output_type": "execute_result"
    }
   ],
   "source": [
    "courses.dtypes"
   ]
  },
  {
   "cell_type": "code",
   "execution_count": 15,
   "metadata": {},
   "outputs": [
    {
     "data": {
      "text/plain": [
       "id_assessment       int64\n",
       "id_student          int64\n",
       "date_submitted      int64\n",
       "is_banked           int64\n",
       "score             float64\n",
       "dtype: object"
      ]
     },
     "execution_count": 15,
     "metadata": {},
     "output_type": "execute_result"
    }
   ],
   "source": [
    "studentAssessment.dtypes"
   ]
  },
  {
   "cell_type": "code",
   "execution_count": 16,
   "metadata": {},
   "outputs": [
    {
     "data": {
      "text/plain": [
       "code_module             object\n",
       "code_presentation       object\n",
       "id_student               int64\n",
       "date_registration      float64\n",
       "date_unregistration    float64\n",
       "dtype: object"
      ]
     },
     "execution_count": 16,
     "metadata": {},
     "output_type": "execute_result"
    }
   ],
   "source": [
    "studentRegistration.dtypes"
   ]
  },
  {
   "cell_type": "code",
   "execution_count": 17,
   "metadata": {},
   "outputs": [
    {
     "data": {
      "text/plain": [
       "code_module           0\n",
       "code_presentation     0\n",
       "id_assessment         0\n",
       "assessment_type       0\n",
       "date                 11\n",
       "weight                0\n",
       "dtype: int64"
      ]
     },
     "execution_count": 17,
     "metadata": {},
     "output_type": "execute_result"
    }
   ],
   "source": [
    "assessments.isna().sum()"
   ]
  },
  {
   "cell_type": "code",
   "execution_count": 18,
   "metadata": {},
   "outputs": [
    {
     "data": {
      "text/plain": [
       "code_module                   0\n",
       "code_presentation             0\n",
       "module_presentation_length    0\n",
       "dtype: int64"
      ]
     },
     "execution_count": 18,
     "metadata": {},
     "output_type": "execute_result"
    }
   ],
   "source": [
    "courses.isna().sum()"
   ]
  },
  {
   "cell_type": "code",
   "execution_count": 19,
   "metadata": {},
   "outputs": [
    {
     "data": {
      "text/plain": [
       "id_assessment       0\n",
       "id_student          0\n",
       "date_submitted      0\n",
       "is_banked           0\n",
       "score             173\n",
       "dtype: int64"
      ]
     },
     "execution_count": 19,
     "metadata": {},
     "output_type": "execute_result"
    }
   ],
   "source": [
    "studentAssessment.isna().sum()"
   ]
  },
  {
   "cell_type": "code",
   "execution_count": 20,
   "metadata": {},
   "outputs": [
    {
     "data": {
      "text/plain": [
       "code_module                0\n",
       "code_presentation          0\n",
       "id_student                 0\n",
       "date_registration         45\n",
       "date_unregistration    22521\n",
       "dtype: int64"
      ]
     },
     "execution_count": 20,
     "metadata": {},
     "output_type": "execute_result"
    }
   ],
   "source": [
    "studentRegistration.isna().sum()"
   ]
  },
  {
   "cell_type": "code",
   "execution_count": 21,
   "metadata": {},
   "outputs": [
    {
     "data": {
      "text/plain": [
       "0"
      ]
     },
     "execution_count": 21,
     "metadata": {},
     "output_type": "execute_result"
    }
   ],
   "source": [
    "courses.duplicated(keep=False).sum()"
   ]
  },
  {
   "cell_type": "code",
   "execution_count": 22,
   "metadata": {},
   "outputs": [
    {
     "data": {
      "text/plain": [
       "0"
      ]
     },
     "execution_count": 22,
     "metadata": {},
     "output_type": "execute_result"
    }
   ],
   "source": [
    "assessments.duplicated(keep=False).sum()"
   ]
  },
  {
   "cell_type": "code",
   "execution_count": 23,
   "metadata": {},
   "outputs": [
    {
     "data": {
      "text/plain": [
       "0"
      ]
     },
     "execution_count": 23,
     "metadata": {},
     "output_type": "execute_result"
    }
   ],
   "source": [
    "studentAssessment.duplicated(keep=False).sum()"
   ]
  },
  {
   "cell_type": "code",
   "execution_count": 24,
   "metadata": {},
   "outputs": [
    {
     "data": {
      "text/plain": [
       "0"
      ]
     },
     "execution_count": 24,
     "metadata": {},
     "output_type": "execute_result"
    }
   ],
   "source": [
    "studentRegistration.duplicated(keep=False).sum()"
   ]
  },
  {
   "cell_type": "code",
   "execution_count": 25,
   "metadata": {},
   "outputs": [],
   "source": [
    "# Выводы:\n",
    "# Дубликатов данных нет.\n",
    "\n",
    "# Есть пропущенные значения в таблицах:\n",
    "#     'assessments' - в столбце с датами, некоторые экзамены не имеют срок сдачи. Возможно, такие экзамены, которые без срока. \n",
    "#     'studentAssessment' - в столбце 'score', возможно это связанно с тем, что студенты не сдавали данный экзамен или \n",
    "#                          не сдали вовсе.\n",
    "#     'studentRegistration' - в столбцах 'date_registration' - возможно данные не записывались, \n",
    "#                             нужно смотреть, как повлияет это не дальнейшие исследования;\n",
    "#                             'date_unregistration' - нет в данных тех студентов, которые окончили курс.\n"
   ]
  },
  {
   "cell_type": "code",
   "execution_count": 26,
   "metadata": {},
   "outputs": [],
   "source": [
    "# 1. Сколько студентов успешно сдали только один курс? (Успешная сдача — это зачёт по курсу на экзамене).\n",
    "\n",
    "# За курс я взяла code_module — предмет (идентификационный код), так как по предмету есть зачеты, \n",
    "# которые имеют свой вес и экзамены после них. \n"
   ]
  },
  {
   "cell_type": "code",
   "execution_count": 27,
   "metadata": {},
   "outputs": [
    {
     "data": {
      "text/plain": [
       "array(['CCC', 'DDD'], dtype=object)"
      ]
     },
     "execution_count": 27,
     "metadata": {},
     "output_type": "execute_result"
    }
   ],
   "source": [
    "# соединим две таблица, с данными и студентам с оценкой и по экзаменам \n",
    "# Посмотрим у каких предметов студенты сдавали экзамены\n",
    "studentAssessment.merge(assessments, how = 'inner', on = 'id_assessment') \\\n",
    "                .query('assessment_type == \"Exam\"').code_module.unique()"
   ]
  },
  {
   "cell_type": "code",
   "execution_count": 28,
   "metadata": {},
   "outputs": [
    {
     "data": {
      "text/html": [
       "<div>\n",
       "<style scoped>\n",
       "    .dataframe tbody tr th:only-of-type {\n",
       "        vertical-align: middle;\n",
       "    }\n",
       "\n",
       "    .dataframe tbody tr th {\n",
       "        vertical-align: top;\n",
       "    }\n",
       "\n",
       "    .dataframe thead th {\n",
       "        text-align: right;\n",
       "    }\n",
       "</style>\n",
       "<table border=\"1\" class=\"dataframe\">\n",
       "  <thead>\n",
       "    <tr style=\"text-align: right;\">\n",
       "      <th></th>\n",
       "      <th>code_module</th>\n",
       "      <th>code_presentation</th>\n",
       "      <th>id_assessment</th>\n",
       "      <th>assessment_type</th>\n",
       "      <th>date</th>\n",
       "      <th>weight</th>\n",
       "    </tr>\n",
       "  </thead>\n",
       "  <tbody>\n",
       "    <tr>\n",
       "      <th>5</th>\n",
       "      <td>AAA</td>\n",
       "      <td>2013J</td>\n",
       "      <td>1757</td>\n",
       "      <td>Exam</td>\n",
       "      <td>NaN</td>\n",
       "      <td>100.0</td>\n",
       "    </tr>\n",
       "    <tr>\n",
       "      <th>11</th>\n",
       "      <td>AAA</td>\n",
       "      <td>2014J</td>\n",
       "      <td>1763</td>\n",
       "      <td>Exam</td>\n",
       "      <td>NaN</td>\n",
       "      <td>100.0</td>\n",
       "    </tr>\n",
       "    <tr>\n",
       "      <th>23</th>\n",
       "      <td>BBB</td>\n",
       "      <td>2013B</td>\n",
       "      <td>14990</td>\n",
       "      <td>Exam</td>\n",
       "      <td>NaN</td>\n",
       "      <td>100.0</td>\n",
       "    </tr>\n",
       "    <tr>\n",
       "      <th>35</th>\n",
       "      <td>BBB</td>\n",
       "      <td>2013J</td>\n",
       "      <td>15002</td>\n",
       "      <td>Exam</td>\n",
       "      <td>NaN</td>\n",
       "      <td>100.0</td>\n",
       "    </tr>\n",
       "    <tr>\n",
       "      <th>47</th>\n",
       "      <td>BBB</td>\n",
       "      <td>2014B</td>\n",
       "      <td>15014</td>\n",
       "      <td>Exam</td>\n",
       "      <td>NaN</td>\n",
       "      <td>100.0</td>\n",
       "    </tr>\n",
       "    <tr>\n",
       "      <th>53</th>\n",
       "      <td>BBB</td>\n",
       "      <td>2014J</td>\n",
       "      <td>15025</td>\n",
       "      <td>Exam</td>\n",
       "      <td>NaN</td>\n",
       "      <td>100.0</td>\n",
       "    </tr>\n",
       "    <tr>\n",
       "      <th>62</th>\n",
       "      <td>CCC</td>\n",
       "      <td>2014B</td>\n",
       "      <td>24290</td>\n",
       "      <td>Exam</td>\n",
       "      <td>NaN</td>\n",
       "      <td>100.0</td>\n",
       "    </tr>\n",
       "    <tr>\n",
       "      <th>63</th>\n",
       "      <td>CCC</td>\n",
       "      <td>2014B</td>\n",
       "      <td>40087</td>\n",
       "      <td>Exam</td>\n",
       "      <td>NaN</td>\n",
       "      <td>100.0</td>\n",
       "    </tr>\n",
       "    <tr>\n",
       "      <th>72</th>\n",
       "      <td>CCC</td>\n",
       "      <td>2014J</td>\n",
       "      <td>24299</td>\n",
       "      <td>Exam</td>\n",
       "      <td>NaN</td>\n",
       "      <td>100.0</td>\n",
       "    </tr>\n",
       "    <tr>\n",
       "      <th>73</th>\n",
       "      <td>CCC</td>\n",
       "      <td>2014J</td>\n",
       "      <td>40088</td>\n",
       "      <td>Exam</td>\n",
       "      <td>NaN</td>\n",
       "      <td>100.0</td>\n",
       "    </tr>\n",
       "    <tr>\n",
       "      <th>87</th>\n",
       "      <td>DDD</td>\n",
       "      <td>2013B</td>\n",
       "      <td>25340</td>\n",
       "      <td>Exam</td>\n",
       "      <td>240.0</td>\n",
       "      <td>100.0</td>\n",
       "    </tr>\n",
       "    <tr>\n",
       "      <th>94</th>\n",
       "      <td>DDD</td>\n",
       "      <td>2013J</td>\n",
       "      <td>25354</td>\n",
       "      <td>Exam</td>\n",
       "      <td>261.0</td>\n",
       "      <td>100.0</td>\n",
       "    </tr>\n",
       "    <tr>\n",
       "      <th>101</th>\n",
       "      <td>DDD</td>\n",
       "      <td>2014B</td>\n",
       "      <td>25361</td>\n",
       "      <td>Exam</td>\n",
       "      <td>241.0</td>\n",
       "      <td>100.0</td>\n",
       "    </tr>\n",
       "    <tr>\n",
       "      <th>108</th>\n",
       "      <td>DDD</td>\n",
       "      <td>2014J</td>\n",
       "      <td>25368</td>\n",
       "      <td>Exam</td>\n",
       "      <td>NaN</td>\n",
       "      <td>100.0</td>\n",
       "    </tr>\n",
       "    <tr>\n",
       "      <th>113</th>\n",
       "      <td>EEE</td>\n",
       "      <td>2013J</td>\n",
       "      <td>30713</td>\n",
       "      <td>Exam</td>\n",
       "      <td>235.0</td>\n",
       "      <td>100.0</td>\n",
       "    </tr>\n",
       "    <tr>\n",
       "      <th>118</th>\n",
       "      <td>EEE</td>\n",
       "      <td>2014B</td>\n",
       "      <td>30718</td>\n",
       "      <td>Exam</td>\n",
       "      <td>228.0</td>\n",
       "      <td>100.0</td>\n",
       "    </tr>\n",
       "    <tr>\n",
       "      <th>123</th>\n",
       "      <td>EEE</td>\n",
       "      <td>2014J</td>\n",
       "      <td>30723</td>\n",
       "      <td>Exam</td>\n",
       "      <td>235.0</td>\n",
       "      <td>100.0</td>\n",
       "    </tr>\n",
       "    <tr>\n",
       "      <th>136</th>\n",
       "      <td>FFF</td>\n",
       "      <td>2013B</td>\n",
       "      <td>34872</td>\n",
       "      <td>Exam</td>\n",
       "      <td>222.0</td>\n",
       "      <td>100.0</td>\n",
       "    </tr>\n",
       "    <tr>\n",
       "      <th>149</th>\n",
       "      <td>FFF</td>\n",
       "      <td>2013J</td>\n",
       "      <td>34885</td>\n",
       "      <td>Exam</td>\n",
       "      <td>236.0</td>\n",
       "      <td>100.0</td>\n",
       "    </tr>\n",
       "    <tr>\n",
       "      <th>162</th>\n",
       "      <td>FFF</td>\n",
       "      <td>2014B</td>\n",
       "      <td>34898</td>\n",
       "      <td>Exam</td>\n",
       "      <td>227.0</td>\n",
       "      <td>100.0</td>\n",
       "    </tr>\n",
       "    <tr>\n",
       "      <th>175</th>\n",
       "      <td>FFF</td>\n",
       "      <td>2014J</td>\n",
       "      <td>34911</td>\n",
       "      <td>Exam</td>\n",
       "      <td>241.0</td>\n",
       "      <td>100.0</td>\n",
       "    </tr>\n",
       "    <tr>\n",
       "      <th>185</th>\n",
       "      <td>GGG</td>\n",
       "      <td>2013J</td>\n",
       "      <td>37424</td>\n",
       "      <td>Exam</td>\n",
       "      <td>229.0</td>\n",
       "      <td>100.0</td>\n",
       "    </tr>\n",
       "    <tr>\n",
       "      <th>195</th>\n",
       "      <td>GGG</td>\n",
       "      <td>2014B</td>\n",
       "      <td>37434</td>\n",
       "      <td>Exam</td>\n",
       "      <td>222.0</td>\n",
       "      <td>100.0</td>\n",
       "    </tr>\n",
       "    <tr>\n",
       "      <th>205</th>\n",
       "      <td>GGG</td>\n",
       "      <td>2014J</td>\n",
       "      <td>37444</td>\n",
       "      <td>Exam</td>\n",
       "      <td>229.0</td>\n",
       "      <td>100.0</td>\n",
       "    </tr>\n",
       "  </tbody>\n",
       "</table>\n",
       "</div>"
      ],
      "text/plain": [
       "    code_module code_presentation  id_assessment assessment_type   date  \\\n",
       "5           AAA             2013J           1757            Exam    NaN   \n",
       "11          AAA             2014J           1763            Exam    NaN   \n",
       "23          BBB             2013B          14990            Exam    NaN   \n",
       "35          BBB             2013J          15002            Exam    NaN   \n",
       "47          BBB             2014B          15014            Exam    NaN   \n",
       "53          BBB             2014J          15025            Exam    NaN   \n",
       "62          CCC             2014B          24290            Exam    NaN   \n",
       "63          CCC             2014B          40087            Exam    NaN   \n",
       "72          CCC             2014J          24299            Exam    NaN   \n",
       "73          CCC             2014J          40088            Exam    NaN   \n",
       "87          DDD             2013B          25340            Exam  240.0   \n",
       "94          DDD             2013J          25354            Exam  261.0   \n",
       "101         DDD             2014B          25361            Exam  241.0   \n",
       "108         DDD             2014J          25368            Exam    NaN   \n",
       "113         EEE             2013J          30713            Exam  235.0   \n",
       "118         EEE             2014B          30718            Exam  228.0   \n",
       "123         EEE             2014J          30723            Exam  235.0   \n",
       "136         FFF             2013B          34872            Exam  222.0   \n",
       "149         FFF             2013J          34885            Exam  236.0   \n",
       "162         FFF             2014B          34898            Exam  227.0   \n",
       "175         FFF             2014J          34911            Exam  241.0   \n",
       "185         GGG             2013J          37424            Exam  229.0   \n",
       "195         GGG             2014B          37434            Exam  222.0   \n",
       "205         GGG             2014J          37444            Exam  229.0   \n",
       "\n",
       "     weight  \n",
       "5     100.0  \n",
       "11    100.0  \n",
       "23    100.0  \n",
       "35    100.0  \n",
       "47    100.0  \n",
       "53    100.0  \n",
       "62    100.0  \n",
       "63    100.0  \n",
       "72    100.0  \n",
       "73    100.0  \n",
       "87    100.0  \n",
       "94    100.0  \n",
       "101   100.0  \n",
       "108   100.0  \n",
       "113   100.0  \n",
       "118   100.0  \n",
       "123   100.0  \n",
       "136   100.0  \n",
       "149   100.0  \n",
       "162   100.0  \n",
       "175   100.0  \n",
       "185   100.0  \n",
       "195   100.0  \n",
       "205   100.0  "
      ]
     },
     "execution_count": 28,
     "metadata": {},
     "output_type": "execute_result"
    }
   ],
   "source": [
    "# Получается, что только по двум предметам есть информация о сдаче экзаменов: 'CCC', 'DDD' \n",
    "# Проверим в таблице assessments, есть ли вообще экзамены по другим предметам:\n",
    "assessments.query('assessment_type == \"Exam\"')"
   ]
  },
  {
   "cell_type": "code",
   "execution_count": 29,
   "metadata": {},
   "outputs": [],
   "source": [
    "# Получается, что у всех предметов есть экзамен, либо, все студенты не сдавали этот экзамен (что мало вероятно), \n",
    "# либо данные по данным предметам не вносятся в таблицу (что необходимо поправить). \n",
    "# Так же в таблице assessments есть колонка 'weight', \n",
    "# в которой указывается вес предварительных тестов до экзамена, получается, что для того, чтобы сдавать экзамен, \n",
    "# необходимо сдавать предварительные тесты и только после сдачи их всех (так что бы общий вес был 100),\n",
    "# студент допускается до экзамена."
   ]
  },
  {
   "cell_type": "code",
   "execution_count": 30,
   "metadata": {},
   "outputs": [
    {
     "data": {
      "text/html": [
       "<div>\n",
       "<style scoped>\n",
       "    .dataframe tbody tr th:only-of-type {\n",
       "        vertical-align: middle;\n",
       "    }\n",
       "\n",
       "    .dataframe tbody tr th {\n",
       "        vertical-align: top;\n",
       "    }\n",
       "\n",
       "    .dataframe thead th {\n",
       "        text-align: right;\n",
       "    }\n",
       "</style>\n",
       "<table border=\"1\" class=\"dataframe\">\n",
       "  <thead>\n",
       "    <tr style=\"text-align: right;\">\n",
       "      <th></th>\n",
       "      <th>id_student</th>\n",
       "      <th>code_presentation</th>\n",
       "      <th>code_module</th>\n",
       "      <th>assessment_type</th>\n",
       "      <th>weight</th>\n",
       "    </tr>\n",
       "  </thead>\n",
       "  <tbody>\n",
       "    <tr>\n",
       "      <th>0</th>\n",
       "      <td>6516</td>\n",
       "      <td>2014J</td>\n",
       "      <td>AAA</td>\n",
       "      <td>TMA</td>\n",
       "      <td>100.0</td>\n",
       "    </tr>\n",
       "    <tr>\n",
       "      <th>1</th>\n",
       "      <td>8462</td>\n",
       "      <td>2013J</td>\n",
       "      <td>DDD</td>\n",
       "      <td>TMA</td>\n",
       "      <td>40.0</td>\n",
       "    </tr>\n",
       "    <tr>\n",
       "      <th>2</th>\n",
       "      <td>8462</td>\n",
       "      <td>2014J</td>\n",
       "      <td>DDD</td>\n",
       "      <td>TMA</td>\n",
       "      <td>50.0</td>\n",
       "    </tr>\n",
       "    <tr>\n",
       "      <th>3</th>\n",
       "      <td>11391</td>\n",
       "      <td>2013J</td>\n",
       "      <td>AAA</td>\n",
       "      <td>TMA</td>\n",
       "      <td>100.0</td>\n",
       "    </tr>\n",
       "    <tr>\n",
       "      <th>4</th>\n",
       "      <td>23629</td>\n",
       "      <td>2013B</td>\n",
       "      <td>BBB</td>\n",
       "      <td>CMA</td>\n",
       "      <td>2.0</td>\n",
       "    </tr>\n",
       "    <tr>\n",
       "      <th>...</th>\n",
       "      <td>...</td>\n",
       "      <td>...</td>\n",
       "      <td>...</td>\n",
       "      <td>...</td>\n",
       "      <td>...</td>\n",
       "    </tr>\n",
       "    <tr>\n",
       "      <th>43415</th>\n",
       "      <td>2698257</td>\n",
       "      <td>2013J</td>\n",
       "      <td>AAA</td>\n",
       "      <td>TMA</td>\n",
       "      <td>100.0</td>\n",
       "    </tr>\n",
       "    <tr>\n",
       "      <th>43416</th>\n",
       "      <td>2698535</td>\n",
       "      <td>2013J</td>\n",
       "      <td>EEE</td>\n",
       "      <td>TMA</td>\n",
       "      <td>72.0</td>\n",
       "    </tr>\n",
       "    <tr>\n",
       "      <th>43417</th>\n",
       "      <td>2698535</td>\n",
       "      <td>2014B</td>\n",
       "      <td>CCC</td>\n",
       "      <td>CMA</td>\n",
       "      <td>7.0</td>\n",
       "    </tr>\n",
       "    <tr>\n",
       "      <th>43418</th>\n",
       "      <td>2698577</td>\n",
       "      <td>2014J</td>\n",
       "      <td>BBB</td>\n",
       "      <td>TMA</td>\n",
       "      <td>100.0</td>\n",
       "    </tr>\n",
       "    <tr>\n",
       "      <th>43419</th>\n",
       "      <td>2698588</td>\n",
       "      <td>2014J</td>\n",
       "      <td>BBB</td>\n",
       "      <td>TMA</td>\n",
       "      <td>100.0</td>\n",
       "    </tr>\n",
       "  </tbody>\n",
       "</table>\n",
       "<p>43420 rows × 5 columns</p>\n",
       "</div>"
      ],
      "text/plain": [
       "       id_student code_presentation code_module assessment_type  weight\n",
       "0            6516             2014J         AAA             TMA   100.0\n",
       "1            8462             2013J         DDD             TMA    40.0\n",
       "2            8462             2014J         DDD             TMA    50.0\n",
       "3           11391             2013J         AAA             TMA   100.0\n",
       "4           23629             2013B         BBB             CMA     2.0\n",
       "...           ...               ...         ...             ...     ...\n",
       "43415     2698257             2013J         AAA             TMA   100.0\n",
       "43416     2698535             2013J         EEE             TMA    72.0\n",
       "43417     2698535             2014B         CCC             CMA     7.0\n",
       "43418     2698577             2014J         BBB             TMA   100.0\n",
       "43419     2698588             2014J         BBB             TMA   100.0\n",
       "\n",
       "[43420 rows x 5 columns]"
      ]
     },
     "execution_count": 30,
     "metadata": {},
     "output_type": "execute_result"
    }
   ],
   "source": [
    "# отсортируем данные для дальнейшего использования, возьмем только успешные тесты (по которым оценка > = 40), \n",
    "# и посчитаем по общий вес всех успешно сданных тестов\n",
    "\n",
    "test = studentAssessment.merge(assessments, how = 'inner', on = 'id_assessment') \\\n",
    "                        .query('score >= 40.0') \\\n",
    "                        .groupby(['id_student', 'code_presentation', 'code_module', 'assessment_type'], as_index = False) \\\n",
    "                        .agg({'weight': 'sum'})\n",
    "test"
   ]
  },
  {
   "cell_type": "code",
   "execution_count": 31,
   "metadata": {},
   "outputs": [
    {
     "data": {
      "text/html": [
       "<div>\n",
       "<style scoped>\n",
       "    .dataframe tbody tr th:only-of-type {\n",
       "        vertical-align: middle;\n",
       "    }\n",
       "\n",
       "    .dataframe tbody tr th {\n",
       "        vertical-align: top;\n",
       "    }\n",
       "\n",
       "    .dataframe thead th {\n",
       "        text-align: right;\n",
       "    }\n",
       "</style>\n",
       "<table border=\"1\" class=\"dataframe\">\n",
       "  <thead>\n",
       "    <tr style=\"text-align: right;\">\n",
       "      <th>assessment_type</th>\n",
       "      <th>id_student</th>\n",
       "      <th>code_presentation</th>\n",
       "      <th>code_module</th>\n",
       "      <th>CMA</th>\n",
       "      <th>Exam</th>\n",
       "      <th>TMA</th>\n",
       "    </tr>\n",
       "  </thead>\n",
       "  <tbody>\n",
       "    <tr>\n",
       "      <th>0</th>\n",
       "      <td>23698</td>\n",
       "      <td>2014J</td>\n",
       "      <td>CCC</td>\n",
       "      <td>25.0</td>\n",
       "      <td>100.0</td>\n",
       "      <td>75.0</td>\n",
       "    </tr>\n",
       "    <tr>\n",
       "      <th>1</th>\n",
       "      <td>24213</td>\n",
       "      <td>2014B</td>\n",
       "      <td>DDD</td>\n",
       "      <td>0.0</td>\n",
       "      <td>100.0</td>\n",
       "      <td>100.0</td>\n",
       "    </tr>\n",
       "    <tr>\n",
       "      <th>2</th>\n",
       "      <td>27116</td>\n",
       "      <td>2014J</td>\n",
       "      <td>CCC</td>\n",
       "      <td>25.0</td>\n",
       "      <td>100.0</td>\n",
       "      <td>75.0</td>\n",
       "    </tr>\n",
       "    <tr>\n",
       "      <th>3</th>\n",
       "      <td>28046</td>\n",
       "      <td>2013J</td>\n",
       "      <td>DDD</td>\n",
       "      <td>0.0</td>\n",
       "      <td>100.0</td>\n",
       "      <td>80.0</td>\n",
       "    </tr>\n",
       "    <tr>\n",
       "      <th>4</th>\n",
       "      <td>28787</td>\n",
       "      <td>2014J</td>\n",
       "      <td>CCC</td>\n",
       "      <td>17.0</td>\n",
       "      <td>100.0</td>\n",
       "      <td>0.0</td>\n",
       "    </tr>\n",
       "  </tbody>\n",
       "</table>\n",
       "</div>"
      ],
      "text/plain": [
       "assessment_type  id_student code_presentation code_module   CMA   Exam    TMA\n",
       "0                     23698             2014J         CCC  25.0  100.0   75.0\n",
       "1                     24213             2014B         DDD   0.0  100.0  100.0\n",
       "2                     27116             2014J         CCC  25.0  100.0   75.0\n",
       "3                     28046             2013J         DDD   0.0  100.0   80.0\n",
       "4                     28787             2014J         CCC  17.0  100.0    0.0"
      ]
     },
     "execution_count": 31,
     "metadata": {},
     "output_type": "execute_result"
    }
   ],
   "source": [
    "# Развернем таблицу, для того что бы удобно было с ней работать дальше и сразу отфильтруем только те строки где Exam = 100\n",
    "test_pivot = test.pivot(index=['id_student', 'code_presentation', 'code_module'], columns='assessment_type', values='weight') \\\n",
    "                 .fillna(0) \\\n",
    "                 .query('Exam == 100') \\\n",
    "                 .reset_index()\n",
    "test_pivot.head()"
   ]
  },
  {
   "cell_type": "code",
   "execution_count": 32,
   "metadata": {},
   "outputs": [
    {
     "data": {
      "text/html": [
       "<div>\n",
       "<style scoped>\n",
       "    .dataframe tbody tr th:only-of-type {\n",
       "        vertical-align: middle;\n",
       "    }\n",
       "\n",
       "    .dataframe tbody tr th {\n",
       "        vertical-align: top;\n",
       "    }\n",
       "\n",
       "    .dataframe thead th {\n",
       "        text-align: right;\n",
       "    }\n",
       "</style>\n",
       "<table border=\"1\" class=\"dataframe\">\n",
       "  <thead>\n",
       "    <tr style=\"text-align: right;\">\n",
       "      <th>assessment_type</th>\n",
       "      <th>id_student</th>\n",
       "      <th>code_presentation</th>\n",
       "      <th>code_module</th>\n",
       "      <th>CMA</th>\n",
       "      <th>Exam</th>\n",
       "      <th>TMA</th>\n",
       "      <th>SUM_CMA_TMA</th>\n",
       "    </tr>\n",
       "  </thead>\n",
       "  <tbody>\n",
       "    <tr>\n",
       "      <th>0</th>\n",
       "      <td>23698</td>\n",
       "      <td>2014J</td>\n",
       "      <td>CCC</td>\n",
       "      <td>25.0</td>\n",
       "      <td>100.0</td>\n",
       "      <td>75.0</td>\n",
       "      <td>100.0</td>\n",
       "    </tr>\n",
       "    <tr>\n",
       "      <th>1</th>\n",
       "      <td>24213</td>\n",
       "      <td>2014B</td>\n",
       "      <td>DDD</td>\n",
       "      <td>0.0</td>\n",
       "      <td>100.0</td>\n",
       "      <td>100.0</td>\n",
       "      <td>100.0</td>\n",
       "    </tr>\n",
       "    <tr>\n",
       "      <th>2</th>\n",
       "      <td>27116</td>\n",
       "      <td>2014J</td>\n",
       "      <td>CCC</td>\n",
       "      <td>25.0</td>\n",
       "      <td>100.0</td>\n",
       "      <td>75.0</td>\n",
       "      <td>100.0</td>\n",
       "    </tr>\n",
       "    <tr>\n",
       "      <th>3</th>\n",
       "      <td>28046</td>\n",
       "      <td>2013J</td>\n",
       "      <td>DDD</td>\n",
       "      <td>0.0</td>\n",
       "      <td>100.0</td>\n",
       "      <td>80.0</td>\n",
       "      <td>80.0</td>\n",
       "    </tr>\n",
       "    <tr>\n",
       "      <th>4</th>\n",
       "      <td>28787</td>\n",
       "      <td>2014J</td>\n",
       "      <td>CCC</td>\n",
       "      <td>17.0</td>\n",
       "      <td>100.0</td>\n",
       "      <td>0.0</td>\n",
       "      <td>17.0</td>\n",
       "    </tr>\n",
       "  </tbody>\n",
       "</table>\n",
       "</div>"
      ],
      "text/plain": [
       "assessment_type  id_student code_presentation code_module   CMA   Exam    TMA  \\\n",
       "0                     23698             2014J         CCC  25.0  100.0   75.0   \n",
       "1                     24213             2014B         DDD   0.0  100.0  100.0   \n",
       "2                     27116             2014J         CCC  25.0  100.0   75.0   \n",
       "3                     28046             2013J         DDD   0.0  100.0   80.0   \n",
       "4                     28787             2014J         CCC  17.0  100.0    0.0   \n",
       "\n",
       "assessment_type  SUM_CMA_TMA  \n",
       "0                      100.0  \n",
       "1                      100.0  \n",
       "2                      100.0  \n",
       "3                       80.0  \n",
       "4                       17.0  "
      ]
     },
     "execution_count": 32,
     "metadata": {},
     "output_type": "execute_result"
    }
   ],
   "source": [
    "#добавим колонку с суммой по тестам по СМА и ТНА\n",
    "test_pivot['SUM_CMA_TMA'] = test_pivot['CMA'] + test_pivot['TMA']\n",
    "test_pivot.head()"
   ]
  },
  {
   "cell_type": "code",
   "execution_count": 33,
   "metadata": {},
   "outputs": [
    {
     "data": {
      "text/html": [
       "<div>\n",
       "<style scoped>\n",
       "    .dataframe tbody tr th:only-of-type {\n",
       "        vertical-align: middle;\n",
       "    }\n",
       "\n",
       "    .dataframe tbody tr th {\n",
       "        vertical-align: top;\n",
       "    }\n",
       "\n",
       "    .dataframe thead th {\n",
       "        text-align: right;\n",
       "    }\n",
       "</style>\n",
       "<table border=\"1\" class=\"dataframe\">\n",
       "  <thead>\n",
       "    <tr style=\"text-align: right;\">\n",
       "      <th>assessment_type</th>\n",
       "      <th>id_student</th>\n",
       "      <th>code_presentation</th>\n",
       "      <th>code_module</th>\n",
       "      <th>CMA</th>\n",
       "      <th>Exam</th>\n",
       "      <th>TMA</th>\n",
       "      <th>SUM_CMA_TMA</th>\n",
       "    </tr>\n",
       "  </thead>\n",
       "  <tbody>\n",
       "    <tr>\n",
       "      <th>3</th>\n",
       "      <td>28046</td>\n",
       "      <td>2013J</td>\n",
       "      <td>DDD</td>\n",
       "      <td>0.0</td>\n",
       "      <td>100.0</td>\n",
       "      <td>80.0</td>\n",
       "      <td>80.0</td>\n",
       "    </tr>\n",
       "    <tr>\n",
       "      <th>4</th>\n",
       "      <td>28787</td>\n",
       "      <td>2014J</td>\n",
       "      <td>CCC</td>\n",
       "      <td>17.0</td>\n",
       "      <td>100.0</td>\n",
       "      <td>0.0</td>\n",
       "      <td>17.0</td>\n",
       "    </tr>\n",
       "    <tr>\n",
       "      <th>6</th>\n",
       "      <td>29420</td>\n",
       "      <td>2014J</td>\n",
       "      <td>CCC</td>\n",
       "      <td>25.0</td>\n",
       "      <td>100.0</td>\n",
       "      <td>66.0</td>\n",
       "      <td>91.0</td>\n",
       "    </tr>\n",
       "    <tr>\n",
       "      <th>14</th>\n",
       "      <td>33930</td>\n",
       "      <td>2013J</td>\n",
       "      <td>DDD</td>\n",
       "      <td>0.0</td>\n",
       "      <td>100.0</td>\n",
       "      <td>80.0</td>\n",
       "      <td>80.0</td>\n",
       "    </tr>\n",
       "    <tr>\n",
       "      <th>15</th>\n",
       "      <td>35508</td>\n",
       "      <td>2014J</td>\n",
       "      <td>CCC</td>\n",
       "      <td>25.0</td>\n",
       "      <td>100.0</td>\n",
       "      <td>0.0</td>\n",
       "      <td>25.0</td>\n",
       "    </tr>\n",
       "    <tr>\n",
       "      <th>...</th>\n",
       "      <td>...</td>\n",
       "      <td>...</td>\n",
       "      <td>...</td>\n",
       "      <td>...</td>\n",
       "      <td>...</td>\n",
       "      <td>...</td>\n",
       "      <td>...</td>\n",
       "    </tr>\n",
       "    <tr>\n",
       "      <th>4381</th>\n",
       "      <td>2691267</td>\n",
       "      <td>2014J</td>\n",
       "      <td>CCC</td>\n",
       "      <td>25.0</td>\n",
       "      <td>100.0</td>\n",
       "      <td>53.0</td>\n",
       "      <td>78.0</td>\n",
       "    </tr>\n",
       "    <tr>\n",
       "      <th>4382</th>\n",
       "      <td>2692186</td>\n",
       "      <td>2013J</td>\n",
       "      <td>DDD</td>\n",
       "      <td>0.0</td>\n",
       "      <td>100.0</td>\n",
       "      <td>80.0</td>\n",
       "      <td>80.0</td>\n",
       "    </tr>\n",
       "    <tr>\n",
       "      <th>4385</th>\n",
       "      <td>2692948</td>\n",
       "      <td>2014B</td>\n",
       "      <td>DDD</td>\n",
       "      <td>0.0</td>\n",
       "      <td>100.0</td>\n",
       "      <td>77.5</td>\n",
       "      <td>77.5</td>\n",
       "    </tr>\n",
       "    <tr>\n",
       "      <th>4390</th>\n",
       "      <td>2697181</td>\n",
       "      <td>2014B</td>\n",
       "      <td>CCC</td>\n",
       "      <td>17.0</td>\n",
       "      <td>100.0</td>\n",
       "      <td>44.0</td>\n",
       "      <td>61.0</td>\n",
       "    </tr>\n",
       "    <tr>\n",
       "      <th>4391</th>\n",
       "      <td>2698251</td>\n",
       "      <td>2014B</td>\n",
       "      <td>DDD</td>\n",
       "      <td>0.0</td>\n",
       "      <td>100.0</td>\n",
       "      <td>80.0</td>\n",
       "      <td>80.0</td>\n",
       "    </tr>\n",
       "  </tbody>\n",
       "</table>\n",
       "<p>1770 rows × 7 columns</p>\n",
       "</div>"
      ],
      "text/plain": [
       "assessment_type  id_student code_presentation code_module   CMA   Exam   TMA  \\\n",
       "3                     28046             2013J         DDD   0.0  100.0  80.0   \n",
       "4                     28787             2014J         CCC  17.0  100.0   0.0   \n",
       "6                     29420             2014J         CCC  25.0  100.0  66.0   \n",
       "14                    33930             2013J         DDD   0.0  100.0  80.0   \n",
       "15                    35508             2014J         CCC  25.0  100.0   0.0   \n",
       "...                     ...               ...         ...   ...    ...   ...   \n",
       "4381                2691267             2014J         CCC  25.0  100.0  53.0   \n",
       "4382                2692186             2013J         DDD   0.0  100.0  80.0   \n",
       "4385                2692948             2014B         DDD   0.0  100.0  77.5   \n",
       "4390                2697181             2014B         CCC  17.0  100.0  44.0   \n",
       "4391                2698251             2014B         DDD   0.0  100.0  80.0   \n",
       "\n",
       "assessment_type  SUM_CMA_TMA  \n",
       "3                       80.0  \n",
       "4                       17.0  \n",
       "6                       91.0  \n",
       "14                      80.0  \n",
       "15                      25.0  \n",
       "...                      ...  \n",
       "4381                    78.0  \n",
       "4382                    80.0  \n",
       "4385                    77.5  \n",
       "4390                    61.0  \n",
       "4391                    80.0  \n",
       "\n",
       "[1770 rows x 7 columns]"
      ]
     },
     "execution_count": 33,
     "metadata": {},
     "output_type": "execute_result"
    }
   ],
   "source": [
    "test_pivot.query('SUM_CMA_TMA != 100') # это те студенты, которые не сдали на 100% курс, но сдали экзамен"
   ]
  },
  {
   "cell_type": "code",
   "execution_count": 34,
   "metadata": {},
   "outputs": [
    {
     "data": {
      "text/html": [
       "<div>\n",
       "<style scoped>\n",
       "    .dataframe tbody tr th:only-of-type {\n",
       "        vertical-align: middle;\n",
       "    }\n",
       "\n",
       "    .dataframe tbody tr th {\n",
       "        vertical-align: top;\n",
       "    }\n",
       "\n",
       "    .dataframe thead th {\n",
       "        text-align: right;\n",
       "    }\n",
       "</style>\n",
       "<table border=\"1\" class=\"dataframe\">\n",
       "  <thead>\n",
       "    <tr style=\"text-align: right;\">\n",
       "      <th>assessment_type</th>\n",
       "      <th>id_student</th>\n",
       "      <th>code_presentation</th>\n",
       "      <th>code_module</th>\n",
       "      <th>CMA</th>\n",
       "      <th>Exam</th>\n",
       "      <th>TMA</th>\n",
       "      <th>SUM_CMA_TMA</th>\n",
       "    </tr>\n",
       "  </thead>\n",
       "  <tbody>\n",
       "    <tr>\n",
       "      <th>280</th>\n",
       "      <td>245946</td>\n",
       "      <td>2013J</td>\n",
       "      <td>DDD</td>\n",
       "      <td>0.0</td>\n",
       "      <td>100.0</td>\n",
       "      <td>0.0</td>\n",
       "      <td>0.0</td>\n",
       "    </tr>\n",
       "    <tr>\n",
       "      <th>507</th>\n",
       "      <td>363122</td>\n",
       "      <td>2014B</td>\n",
       "      <td>DDD</td>\n",
       "      <td>0.0</td>\n",
       "      <td>100.0</td>\n",
       "      <td>0.0</td>\n",
       "      <td>0.0</td>\n",
       "    </tr>\n",
       "    <tr>\n",
       "      <th>2523</th>\n",
       "      <td>607110</td>\n",
       "      <td>2014J</td>\n",
       "      <td>DDD</td>\n",
       "      <td>0.0</td>\n",
       "      <td>100.0</td>\n",
       "      <td>0.0</td>\n",
       "      <td>0.0</td>\n",
       "    </tr>\n",
       "    <tr>\n",
       "      <th>2780</th>\n",
       "      <td>623008</td>\n",
       "      <td>2014B</td>\n",
       "      <td>DDD</td>\n",
       "      <td>0.0</td>\n",
       "      <td>100.0</td>\n",
       "      <td>0.0</td>\n",
       "      <td>0.0</td>\n",
       "    </tr>\n",
       "  </tbody>\n",
       "</table>\n",
       "</div>"
      ],
      "text/plain": [
       "assessment_type  id_student code_presentation code_module  CMA   Exam  TMA  \\\n",
       "280                  245946             2013J         DDD  0.0  100.0  0.0   \n",
       "507                  363122             2014B         DDD  0.0  100.0  0.0   \n",
       "2523                 607110             2014J         DDD  0.0  100.0  0.0   \n",
       "2780                 623008             2014B         DDD  0.0  100.0  0.0   \n",
       "\n",
       "assessment_type  SUM_CMA_TMA  \n",
       "280                      0.0  \n",
       "507                      0.0  \n",
       "2523                     0.0  \n",
       "2780                     0.0  "
      ]
     },
     "execution_count": 34,
     "metadata": {},
     "output_type": "execute_result"
    }
   ],
   "source": [
    "test_pivot.query('SUM_CMA_TMA == 0') # эти ребята вообще не сдали ничего по курсу, но сдали экзамен."
   ]
  },
  {
   "cell_type": "code",
   "execution_count": 35,
   "metadata": {},
   "outputs": [
    {
     "data": {
      "text/html": [
       "<div>\n",
       "<style scoped>\n",
       "    .dataframe tbody tr th:only-of-type {\n",
       "        vertical-align: middle;\n",
       "    }\n",
       "\n",
       "    .dataframe tbody tr th {\n",
       "        vertical-align: top;\n",
       "    }\n",
       "\n",
       "    .dataframe thead th {\n",
       "        text-align: right;\n",
       "    }\n",
       "</style>\n",
       "<table border=\"1\" class=\"dataframe\">\n",
       "  <thead>\n",
       "    <tr style=\"text-align: right;\">\n",
       "      <th>assessment_type</th>\n",
       "      <th>id_student</th>\n",
       "      <th>code_presentation</th>\n",
       "      <th>code_module</th>\n",
       "      <th>CMA</th>\n",
       "      <th>Exam</th>\n",
       "      <th>TMA</th>\n",
       "      <th>SUM_CMA_TMA</th>\n",
       "    </tr>\n",
       "  </thead>\n",
       "  <tbody>\n",
       "    <tr>\n",
       "      <th>0</th>\n",
       "      <td>23698</td>\n",
       "      <td>2014J</td>\n",
       "      <td>CCC</td>\n",
       "      <td>25.0</td>\n",
       "      <td>100.0</td>\n",
       "      <td>75.0</td>\n",
       "      <td>100.0</td>\n",
       "    </tr>\n",
       "    <tr>\n",
       "      <th>1</th>\n",
       "      <td>24213</td>\n",
       "      <td>2014B</td>\n",
       "      <td>DDD</td>\n",
       "      <td>0.0</td>\n",
       "      <td>100.0</td>\n",
       "      <td>100.0</td>\n",
       "      <td>100.0</td>\n",
       "    </tr>\n",
       "    <tr>\n",
       "      <th>2</th>\n",
       "      <td>27116</td>\n",
       "      <td>2014J</td>\n",
       "      <td>CCC</td>\n",
       "      <td>25.0</td>\n",
       "      <td>100.0</td>\n",
       "      <td>75.0</td>\n",
       "      <td>100.0</td>\n",
       "    </tr>\n",
       "    <tr>\n",
       "      <th>5</th>\n",
       "      <td>29411</td>\n",
       "      <td>2013J</td>\n",
       "      <td>DDD</td>\n",
       "      <td>0.0</td>\n",
       "      <td>100.0</td>\n",
       "      <td>100.0</td>\n",
       "      <td>100.0</td>\n",
       "    </tr>\n",
       "    <tr>\n",
       "      <th>7</th>\n",
       "      <td>29639</td>\n",
       "      <td>2014J</td>\n",
       "      <td>CCC</td>\n",
       "      <td>25.0</td>\n",
       "      <td>100.0</td>\n",
       "      <td>75.0</td>\n",
       "      <td>100.0</td>\n",
       "    </tr>\n",
       "    <tr>\n",
       "      <th>...</th>\n",
       "      <td>...</td>\n",
       "      <td>...</td>\n",
       "      <td>...</td>\n",
       "      <td>...</td>\n",
       "      <td>...</td>\n",
       "      <td>...</td>\n",
       "      <td>...</td>\n",
       "    </tr>\n",
       "    <tr>\n",
       "      <th>4384</th>\n",
       "      <td>2692577</td>\n",
       "      <td>2014B</td>\n",
       "      <td>DDD</td>\n",
       "      <td>0.0</td>\n",
       "      <td>100.0</td>\n",
       "      <td>100.0</td>\n",
       "      <td>100.0</td>\n",
       "    </tr>\n",
       "    <tr>\n",
       "      <th>4386</th>\n",
       "      <td>2693243</td>\n",
       "      <td>2013B</td>\n",
       "      <td>DDD</td>\n",
       "      <td>25.0</td>\n",
       "      <td>100.0</td>\n",
       "      <td>75.0</td>\n",
       "      <td>100.0</td>\n",
       "    </tr>\n",
       "    <tr>\n",
       "      <th>4387</th>\n",
       "      <td>2694886</td>\n",
       "      <td>2014B</td>\n",
       "      <td>DDD</td>\n",
       "      <td>0.0</td>\n",
       "      <td>100.0</td>\n",
       "      <td>100.0</td>\n",
       "      <td>100.0</td>\n",
       "    </tr>\n",
       "    <tr>\n",
       "      <th>4388</th>\n",
       "      <td>2694933</td>\n",
       "      <td>2013B</td>\n",
       "      <td>DDD</td>\n",
       "      <td>25.0</td>\n",
       "      <td>100.0</td>\n",
       "      <td>75.0</td>\n",
       "      <td>100.0</td>\n",
       "    </tr>\n",
       "    <tr>\n",
       "      <th>4389</th>\n",
       "      <td>2695608</td>\n",
       "      <td>2013J</td>\n",
       "      <td>DDD</td>\n",
       "      <td>0.0</td>\n",
       "      <td>100.0</td>\n",
       "      <td>100.0</td>\n",
       "      <td>100.0</td>\n",
       "    </tr>\n",
       "  </tbody>\n",
       "</table>\n",
       "<p>2622 rows × 7 columns</p>\n",
       "</div>"
      ],
      "text/plain": [
       "assessment_type  id_student code_presentation code_module   CMA   Exam    TMA  \\\n",
       "0                     23698             2014J         CCC  25.0  100.0   75.0   \n",
       "1                     24213             2014B         DDD   0.0  100.0  100.0   \n",
       "2                     27116             2014J         CCC  25.0  100.0   75.0   \n",
       "5                     29411             2013J         DDD   0.0  100.0  100.0   \n",
       "7                     29639             2014J         CCC  25.0  100.0   75.0   \n",
       "...                     ...               ...         ...   ...    ...    ...   \n",
       "4384                2692577             2014B         DDD   0.0  100.0  100.0   \n",
       "4386                2693243             2013B         DDD  25.0  100.0   75.0   \n",
       "4387                2694886             2014B         DDD   0.0  100.0  100.0   \n",
       "4388                2694933             2013B         DDD  25.0  100.0   75.0   \n",
       "4389                2695608             2013J         DDD   0.0  100.0  100.0   \n",
       "\n",
       "assessment_type  SUM_CMA_TMA  \n",
       "0                      100.0  \n",
       "1                      100.0  \n",
       "2                      100.0  \n",
       "5                      100.0  \n",
       "7                      100.0  \n",
       "...                      ...  \n",
       "4384                   100.0  \n",
       "4386                   100.0  \n",
       "4387                   100.0  \n",
       "4388                   100.0  \n",
       "4389                   100.0  \n",
       "\n",
       "[2622 rows x 7 columns]"
      ]
     },
     "execution_count": 35,
     "metadata": {},
     "output_type": "execute_result"
    }
   ],
   "source": [
    "test_pivot.query('SUM_CMA_TMA == 100') #полностью закончили программу курса и сдали успешно после этого экзамен."
   ]
  },
  {
   "cell_type": "code",
   "execution_count": 36,
   "metadata": {},
   "outputs": [
    {
     "name": "stdout",
     "output_type": "stream",
     "text": [
      "Студентов, кто полностью закончил курс и успешно сдали только один курс -  2336\n"
     ]
    }
   ],
   "source": [
    "# теперь посчитаем тех, кто полностью закончил программу курса  успешно сдал только один курс.\n",
    "print('Студентов, кто полностью закончил курс и успешно сдали только один курс - ', \n",
    "          test_pivot.query('SUM_CMA_TMA == 100')\n",
    "                    .groupby('id_student', as_index = False) \\\n",
    "                    .agg({'code_presentation': 'count'}) \\\n",
    "                    .query('code_presentation == 1') \\\n",
    "                    .code_presentation.sum())"
   ]
  },
  {
   "cell_type": "code",
   "execution_count": 37,
   "metadata": {},
   "outputs": [],
   "source": [
    "# Но с другой стороны, в условии не говориться, есть ли необходимость проходить весь курс со сдачей всех тестов, \n",
    "# или будет достаточно сдать только экзамен и получить сертификат по курсу.\n",
    "# В случае, когда не обязательно проходить весь курс целиком, рассчитаем количество студентов, \n",
    "# которые успешно сдали экзамен только по одному курсу"
   ]
  },
  {
   "cell_type": "code",
   "execution_count": 38,
   "metadata": {},
   "outputs": [
    {
     "name": "stdout",
     "output_type": "stream",
     "text": [
      "Студентов, кто успешно сдал экзамен только по одиному курсу -  3802\n"
     ]
    }
   ],
   "source": [
    "print('Студентов, кто успешно сдал экзамен только по одиному курсу - ', \n",
    "                studentAssessment.merge(assessments, how = 'inner', on = 'id_assessment') \\\n",
    "                .query('assessment_type == \"Exam\" and score >= 40.0') \\\n",
    "                .groupby('id_student', as_index = False) \\\n",
    "                .agg({'id_assessment': 'count'}) \\\n",
    "                .query('id_assessment == 1') \\\n",
    "                .id_assessment.sum())"
   ]
  },
  {
   "cell_type": "code",
   "execution_count": null,
   "metadata": {},
   "outputs": [],
   "source": []
  },
  {
   "cell_type": "code",
   "execution_count": 39,
   "metadata": {},
   "outputs": [],
   "source": [
    "# Ответ 1: \n",
    "\n",
    "# Студентов, кто успешно сдали только один курс, при условии что нет необходимости проходить весь курс целиком - 3082.\n",
    "# Студентов, кто успешно сдали только один курс, при условии что перед этим необходимо закончить весь курс -  2336\n"
   ]
  },
  {
   "cell_type": "code",
   "execution_count": null,
   "metadata": {},
   "outputs": [],
   "source": []
  },
  {
   "cell_type": "code",
   "execution_count": 40,
   "metadata": {},
   "outputs": [],
   "source": [
    "# 2. Выяви самый сложный и самый простой экзамен: найди курсы и экзамены в рамках курса, \n",
    "# которые обладают самой низкой и самой высокой завершаемостью*."
   ]
  },
  {
   "cell_type": "code",
   "execution_count": 41,
   "metadata": {},
   "outputs": [],
   "source": [
    "# посчитаем количество попыток по каждому экзамену\n",
    "attempts_exam = studentAssessment.dropna().merge(assessments, how = 'inner', on = 'id_assessment') \\\n",
    "                .query('assessment_type == \"Exam\"') \\\n",
    "                .groupby(['id_assessment', 'code_module', 'code_presentation'], as_index = False) \\\n",
    "                .agg({'id_student': \"count\"}) \\\n",
    "                .rename(columns = {'id_student': 'attempt'})              "
   ]
  },
  {
   "cell_type": "code",
   "execution_count": 42,
   "metadata": {},
   "outputs": [],
   "source": [
    "# посчитаем количество успешных сдач по каждому экзамену\n",
    "success_exam = studentAssessment.dropna().merge(assessments, how = 'inner', on = 'id_assessment') \\\n",
    "                .query('assessment_type == \"Exam\" and score >= 40.0') \\\n",
    "                .groupby(['id_assessment', 'code_module', 'code_presentation'], as_index = False) \\\n",
    "                .agg({'id_student': \"count\"}) \\\n",
    "                .rename(columns = {'id_student': 'success'})"
   ]
  },
  {
   "cell_type": "code",
   "execution_count": 43,
   "metadata": {},
   "outputs": [
    {
     "data": {
      "text/html": [
       "<div>\n",
       "<style scoped>\n",
       "    .dataframe tbody tr th:only-of-type {\n",
       "        vertical-align: middle;\n",
       "    }\n",
       "\n",
       "    .dataframe tbody tr th {\n",
       "        vertical-align: top;\n",
       "    }\n",
       "\n",
       "    .dataframe thead th {\n",
       "        text-align: right;\n",
       "    }\n",
       "</style>\n",
       "<table border=\"1\" class=\"dataframe\">\n",
       "  <thead>\n",
       "    <tr style=\"text-align: right;\">\n",
       "      <th></th>\n",
       "      <th>id_assessment</th>\n",
       "      <th>code_module</th>\n",
       "      <th>code_presentation</th>\n",
       "      <th>attempt</th>\n",
       "      <th>success</th>\n",
       "      <th>compleat</th>\n",
       "    </tr>\n",
       "  </thead>\n",
       "  <tbody>\n",
       "    <tr>\n",
       "      <th>2</th>\n",
       "      <td>25340</td>\n",
       "      <td>DDD</td>\n",
       "      <td>2013B</td>\n",
       "      <td>602</td>\n",
       "      <td>504</td>\n",
       "      <td>0.837209</td>\n",
       "    </tr>\n",
       "    <tr>\n",
       "      <th>1</th>\n",
       "      <td>24299</td>\n",
       "      <td>CCC</td>\n",
       "      <td>2014J</td>\n",
       "      <td>1168</td>\n",
       "      <td>1019</td>\n",
       "      <td>0.872432</td>\n",
       "    </tr>\n",
       "    <tr>\n",
       "      <th>5</th>\n",
       "      <td>25368</td>\n",
       "      <td>DDD</td>\n",
       "      <td>2014J</td>\n",
       "      <td>950</td>\n",
       "      <td>842</td>\n",
       "      <td>0.886316</td>\n",
       "    </tr>\n",
       "    <tr>\n",
       "      <th>0</th>\n",
       "      <td>24290</td>\n",
       "      <td>CCC</td>\n",
       "      <td>2014B</td>\n",
       "      <td>747</td>\n",
       "      <td>664</td>\n",
       "      <td>0.888889</td>\n",
       "    </tr>\n",
       "    <tr>\n",
       "      <th>3</th>\n",
       "      <td>25354</td>\n",
       "      <td>DDD</td>\n",
       "      <td>2013J</td>\n",
       "      <td>968</td>\n",
       "      <td>878</td>\n",
       "      <td>0.907025</td>\n",
       "    </tr>\n",
       "    <tr>\n",
       "      <th>4</th>\n",
       "      <td>25361</td>\n",
       "      <td>DDD</td>\n",
       "      <td>2014B</td>\n",
       "      <td>524</td>\n",
       "      <td>485</td>\n",
       "      <td>0.925573</td>\n",
       "    </tr>\n",
       "  </tbody>\n",
       "</table>\n",
       "</div>"
      ],
      "text/plain": [
       "   id_assessment code_module code_presentation  attempt  success  compleat\n",
       "2          25340         DDD             2013B      602      504  0.837209\n",
       "1          24299         CCC             2014J     1168     1019  0.872432\n",
       "5          25368         DDD             2014J      950      842  0.886316\n",
       "0          24290         CCC             2014B      747      664  0.888889\n",
       "3          25354         DDD             2013J      968      878  0.907025\n",
       "4          25361         DDD             2014B      524      485  0.925573"
      ]
     },
     "execution_count": 43,
     "metadata": {},
     "output_type": "execute_result"
    }
   ],
   "source": [
    "#собираем все в одну таблицу и сортируем по завершённости\n",
    "compleat_exam = attempts_exam.merge(success_exam, how = 'inner', on = ['id_assessment', 'code_module', 'code_presentation']) \\\n",
    "                .assign(compleat = success_exam.success / attempts_exam.attempt) \\\n",
    "                .sort_values('compleat')\n",
    "compleat_exam"
   ]
  },
  {
   "cell_type": "code",
   "execution_count": 44,
   "metadata": {},
   "outputs": [],
   "source": [
    "# Ответ 2:\n",
    "# Самый сложный экзамен по предмету DDD Экзамен № 25340 в семестре 2013B\n",
    "# Самый простой экзамен так же по предмету DDD Экзамен № 25361 в семестре 2014B"
   ]
  },
  {
   "cell_type": "code",
   "execution_count": 45,
   "metadata": {},
   "outputs": [],
   "source": [
    "# P.S."
   ]
  },
  {
   "cell_type": "code",
   "execution_count": 46,
   "metadata": {},
   "outputs": [
    {
     "data": {
      "text/html": [
       "<div>\n",
       "<style scoped>\n",
       "    .dataframe tbody tr th:only-of-type {\n",
       "        vertical-align: middle;\n",
       "    }\n",
       "\n",
       "    .dataframe tbody tr th {\n",
       "        vertical-align: top;\n",
       "    }\n",
       "\n",
       "    .dataframe thead th {\n",
       "        text-align: right;\n",
       "    }\n",
       "</style>\n",
       "<table border=\"1\" class=\"dataframe\">\n",
       "  <thead>\n",
       "    <tr style=\"text-align: right;\">\n",
       "      <th></th>\n",
       "      <th>id_assessment</th>\n",
       "      <th>code_module</th>\n",
       "      <th>code_presentation</th>\n",
       "      <th>attempt</th>\n",
       "      <th>success</th>\n",
       "      <th>compleat</th>\n",
       "    </tr>\n",
       "  </thead>\n",
       "  <tbody>\n",
       "    <tr>\n",
       "      <th>1</th>\n",
       "      <td>24299</td>\n",
       "      <td>CCC</td>\n",
       "      <td>2014J</td>\n",
       "      <td>1168</td>\n",
       "      <td>1019</td>\n",
       "      <td>0.872432</td>\n",
       "    </tr>\n",
       "    <tr>\n",
       "      <th>0</th>\n",
       "      <td>24290</td>\n",
       "      <td>CCC</td>\n",
       "      <td>2014B</td>\n",
       "      <td>747</td>\n",
       "      <td>664</td>\n",
       "      <td>0.888889</td>\n",
       "    </tr>\n",
       "    <tr>\n",
       "      <th>2</th>\n",
       "      <td>25340</td>\n",
       "      <td>DDD</td>\n",
       "      <td>2013B</td>\n",
       "      <td>602</td>\n",
       "      <td>504</td>\n",
       "      <td>0.837209</td>\n",
       "    </tr>\n",
       "    <tr>\n",
       "      <th>5</th>\n",
       "      <td>25368</td>\n",
       "      <td>DDD</td>\n",
       "      <td>2014J</td>\n",
       "      <td>950</td>\n",
       "      <td>842</td>\n",
       "      <td>0.886316</td>\n",
       "    </tr>\n",
       "    <tr>\n",
       "      <th>3</th>\n",
       "      <td>25354</td>\n",
       "      <td>DDD</td>\n",
       "      <td>2013J</td>\n",
       "      <td>968</td>\n",
       "      <td>878</td>\n",
       "      <td>0.907025</td>\n",
       "    </tr>\n",
       "    <tr>\n",
       "      <th>4</th>\n",
       "      <td>25361</td>\n",
       "      <td>DDD</td>\n",
       "      <td>2014B</td>\n",
       "      <td>524</td>\n",
       "      <td>485</td>\n",
       "      <td>0.925573</td>\n",
       "    </tr>\n",
       "  </tbody>\n",
       "</table>\n",
       "</div>"
      ],
      "text/plain": [
       "   id_assessment code_module code_presentation  attempt  success  compleat\n",
       "1          24299         CCC             2014J     1168     1019  0.872432\n",
       "0          24290         CCC             2014B      747      664  0.888889\n",
       "2          25340         DDD             2013B      602      504  0.837209\n",
       "5          25368         DDD             2014J      950      842  0.886316\n",
       "3          25354         DDD             2013J      968      878  0.907025\n",
       "4          25361         DDD             2014B      524      485  0.925573"
      ]
     },
     "execution_count": 46,
     "metadata": {},
     "output_type": "execute_result"
    }
   ],
   "source": [
    "compleat_exam.sort_values('code_module')\n",
    "# когда смотришь на эту таблицу, складывается впечатление, \n",
    "# что code_module (они же предметы, они же курсы) повторяются из семестра в семестр, отсюда просится вывод, \n",
    "# что это один и тот же экзамен, просто с разными кодами в разные семестры.\n",
    "# из-за отсутствия возможности получить больше информации о продукте, остаётся строить лишь предположения:)\n",
    "# попробуем просуммировать результаты по курсам и посчитать завершаемость. "
   ]
  },
  {
   "cell_type": "code",
   "execution_count": 47,
   "metadata": {},
   "outputs": [
    {
     "data": {
      "text/html": [
       "<div>\n",
       "<style scoped>\n",
       "    .dataframe tbody tr th:only-of-type {\n",
       "        vertical-align: middle;\n",
       "    }\n",
       "\n",
       "    .dataframe tbody tr th {\n",
       "        vertical-align: top;\n",
       "    }\n",
       "\n",
       "    .dataframe thead th {\n",
       "        text-align: right;\n",
       "    }\n",
       "</style>\n",
       "<table border=\"1\" class=\"dataframe\">\n",
       "  <thead>\n",
       "    <tr style=\"text-align: right;\">\n",
       "      <th></th>\n",
       "      <th>code_module</th>\n",
       "      <th>attempt</th>\n",
       "      <th>success</th>\n",
       "      <th>compleat</th>\n",
       "    </tr>\n",
       "  </thead>\n",
       "  <tbody>\n",
       "    <tr>\n",
       "      <th>0</th>\n",
       "      <td>CCC</td>\n",
       "      <td>1915</td>\n",
       "      <td>1683</td>\n",
       "      <td>0.878851</td>\n",
       "    </tr>\n",
       "    <tr>\n",
       "      <th>1</th>\n",
       "      <td>DDD</td>\n",
       "      <td>3044</td>\n",
       "      <td>2709</td>\n",
       "      <td>0.889947</td>\n",
       "    </tr>\n",
       "  </tbody>\n",
       "</table>\n",
       "</div>"
      ],
      "text/plain": [
       "  code_module  attempt  success  compleat\n",
       "0         CCC     1915     1683  0.878851\n",
       "1         DDD     3044     2709  0.889947"
      ]
     },
     "execution_count": 47,
     "metadata": {},
     "output_type": "execute_result"
    }
   ],
   "source": [
    "compleat_exam_modul = attempts_exam.merge(success_exam, how = 'inner', \n",
    "                                          on = ['id_assessment', 'code_module', 'code_presentation']) \\\n",
    "                                   .groupby('code_module', as_index = False) \\\n",
    "                                   .agg({'attempt': 'sum', 'success': 'sum'})\n",
    "\n",
    "compleat_exam_modul['compleat'] = compleat_exam_modul['success'] / compleat_exam_modul['attempt']\n",
    "\n",
    "compleat_exam_modul # Из этой таблицы можно сделать вывод, что по курсу CCC завершаемость чуть-чуть ниже чем по курсу DDD."
   ]
  },
  {
   "cell_type": "code",
   "execution_count": null,
   "metadata": {},
   "outputs": [],
   "source": []
  },
  {
   "cell_type": "code",
   "execution_count": 48,
   "metadata": {},
   "outputs": [],
   "source": [
    "# 3. По каждому предмету определи средний срок сдачи экзаменов \n",
    "# (под сдачей понимаем последнее успешное прохождение экзамена студентом)"
   ]
  },
  {
   "cell_type": "code",
   "execution_count": 49,
   "metadata": {},
   "outputs": [],
   "source": [
    "# проверим, нет ли студентов, которые два раза сдавали один и тот же экзамен"
   ]
  },
  {
   "cell_type": "code",
   "execution_count": 50,
   "metadata": {},
   "outputs": [
    {
     "data": {
      "text/plain": [
       "0"
      ]
     },
     "execution_count": 50,
     "metadata": {},
     "output_type": "execute_result"
    }
   ],
   "source": [
    "studentAssessment.merge(assessments, how = 'inner', on = 'id_assessment') \\\n",
    "                .query('score > 40 and assessment_type == \"Exam\"') \\\n",
    "                .groupby(['id_student', 'id_assessment'], as_index = False) \\\n",
    "                .agg({'assessment_type': 'count'}) \\\n",
    "                .sort_values('assessment_type') \\\n",
    "                .query('assessment_type != 1') \\\n",
    "                .assessment_type.count()\n",
    "# нет одинаковых сочeтаний"
   ]
  },
  {
   "cell_type": "code",
   "execution_count": 51,
   "metadata": {},
   "outputs": [
    {
     "data": {
      "text/plain": [
       "<matplotlib.axes._subplots.AxesSubplot at 0x7f8f19be7048>"
      ]
     },
     "execution_count": 51,
     "metadata": {},
     "output_type": "execute_result"
    },
    {
     "data": {
      "image/png": "[encoded data removed]",
      "text/plain": [
       "<Figure size 432x288 with 1 Axes>"
      ]
     },
     "metadata": {
      "needs_background": "light"
     },
     "output_type": "display_data"
    }
   ],
   "source": [
    "# построим boxplot что бы посмотреть распределение данных\n",
    "success_st = studentAssessment.merge(assessments, how = 'inner', on = 'id_assessment') \\\n",
    "                .query('score > 40 and assessment_type == \"Exam\"')\n",
    "sns.boxplot(x=\"code_module\", y=\"date_submitted\", data=success_st)\n",
    "\n",
    "# видно что распределение по предмету ССС очень смещено, по-моему, использование среднего тут не очень уместно.  "
   ]
  },
  {
   "cell_type": "code",
   "execution_count": 52,
   "metadata": {},
   "outputs": [
    {
     "data": {
      "text/html": [
       "<div>\n",
       "<style scoped>\n",
       "    .dataframe tbody tr th:only-of-type {\n",
       "        vertical-align: middle;\n",
       "    }\n",
       "\n",
       "    .dataframe tbody tr th {\n",
       "        vertical-align: top;\n",
       "    }\n",
       "\n",
       "    .dataframe thead th {\n",
       "        text-align: right;\n",
       "    }\n",
       "</style>\n",
       "<table border=\"1\" class=\"dataframe\">\n",
       "  <thead>\n",
       "    <tr style=\"text-align: right;\">\n",
       "      <th></th>\n",
       "      <th>code_module</th>\n",
       "      <th>date_submitted</th>\n",
       "    </tr>\n",
       "  </thead>\n",
       "  <tbody>\n",
       "    <tr>\n",
       "      <th>0</th>\n",
       "      <td>CCC</td>\n",
       "      <td>239.0</td>\n",
       "    </tr>\n",
       "    <tr>\n",
       "      <th>1</th>\n",
       "      <td>DDD</td>\n",
       "      <td>238.0</td>\n",
       "    </tr>\n",
       "  </tbody>\n",
       "</table>\n",
       "</div>"
      ],
      "text/plain": [
       "  code_module  date_submitted\n",
       "0         CCC           239.0\n",
       "1         DDD           238.0"
      ]
     },
     "execution_count": 52,
     "metadata": {},
     "output_type": "execute_result"
    }
   ],
   "source": [
    "# тем неимение считаем среднее для обоих предметов\n",
    "studentAssessment.merge(assessments, how = 'inner', on = 'id_assessment') \\\n",
    "                 .query('score > 40 and assessment_type == \"Exam\"') \\\n",
    "                 .groupby('code_module', as_index = False) \\\n",
    "                 .agg({'date_submitted': 'mean'}) \\\n",
    "                 .round(0)"
   ]
  },
  {
   "cell_type": "code",
   "execution_count": 53,
   "metadata": {},
   "outputs": [],
   "source": [
    "# также посмотрим сильно ли отличается медиана. "
   ]
  },
  {
   "cell_type": "code",
   "execution_count": 54,
   "metadata": {},
   "outputs": [
    {
     "data": {
      "text/html": [
       "<div>\n",
       "<style scoped>\n",
       "    .dataframe tbody tr th:only-of-type {\n",
       "        vertical-align: middle;\n",
       "    }\n",
       "\n",
       "    .dataframe tbody tr th {\n",
       "        vertical-align: top;\n",
       "    }\n",
       "\n",
       "    .dataframe thead th {\n",
       "        text-align: right;\n",
       "    }\n",
       "</style>\n",
       "<table border=\"1\" class=\"dataframe\">\n",
       "  <thead>\n",
       "    <tr style=\"text-align: right;\">\n",
       "      <th></th>\n",
       "      <th>code_module</th>\n",
       "      <th>date_submitted</th>\n",
       "    </tr>\n",
       "  </thead>\n",
       "  <tbody>\n",
       "    <tr>\n",
       "      <th>0</th>\n",
       "      <td>CCC</td>\n",
       "      <td>244</td>\n",
       "    </tr>\n",
       "    <tr>\n",
       "      <th>1</th>\n",
       "      <td>DDD</td>\n",
       "      <td>237</td>\n",
       "    </tr>\n",
       "  </tbody>\n",
       "</table>\n",
       "</div>"
      ],
      "text/plain": [
       "  code_module  date_submitted\n",
       "0         CCC             244\n",
       "1         DDD             237"
      ]
     },
     "execution_count": 54,
     "metadata": {},
     "output_type": "execute_result"
    }
   ],
   "source": [
    "studentAssessment.merge(assessments, how = 'inner', on = 'id_assessment') \\\n",
    "                 .query('score > 40 and assessment_type == \"Exam\"') \\\n",
    "                 .groupby('code_module', as_index = False) \\\n",
    "                 .agg({'date_submitted': 'median'})\n",
    "# по предмету ССС медиана очень отличается, это мы и увидели на графике"
   ]
  },
  {
   "cell_type": "code",
   "execution_count": 55,
   "metadata": {},
   "outputs": [
    {
     "data": {
      "text/plain": [
       "0    244\n",
       "dtype: int64"
      ]
     },
     "execution_count": 55,
     "metadata": {},
     "output_type": "execute_result"
    }
   ],
   "source": [
    "# так же посмотрим моду для данных по предмету ССС \n",
    "studentAssessment.merge(assessments, how = 'inner', on = 'id_assessment') \\\n",
    "                 .query('score > 40 and assessment_type == \"Exam\" and code_module == \"CCC\"') \\\n",
    "                 .date_submitted.mode()\n",
    "# мода и медиана ровны"
   ]
  },
  {
   "cell_type": "code",
   "execution_count": 56,
   "metadata": {},
   "outputs": [],
   "source": [
    "# Ответ 3: Все же возьмем за среднее данные по медиане, они лучше отражают структуру данных\n",
    "# Среднее время (медиана) сдачи экзамена по предмету ССС - 244, DDD - 237. "
   ]
  },
  {
   "cell_type": "code",
   "execution_count": null,
   "metadata": {},
   "outputs": [],
   "source": []
  },
  {
   "cell_type": "code",
   "execution_count": 57,
   "metadata": {},
   "outputs": [],
   "source": [
    "# 4. Выяви самые популярные курсы (ТОП-3) по количеству регистраций на них. \n",
    "# А также курсы с самым большим оттоком (ТОП-3). (8 баллов)"
   ]
  },
  {
   "cell_type": "code",
   "execution_count": 58,
   "metadata": {},
   "outputs": [
    {
     "data": {
      "text/html": [
       "<div>\n",
       "<style scoped>\n",
       "    .dataframe tbody tr th:only-of-type {\n",
       "        vertical-align: middle;\n",
       "    }\n",
       "\n",
       "    .dataframe tbody tr th {\n",
       "        vertical-align: top;\n",
       "    }\n",
       "\n",
       "    .dataframe thead th {\n",
       "        text-align: right;\n",
       "    }\n",
       "</style>\n",
       "<table border=\"1\" class=\"dataframe\">\n",
       "  <thead>\n",
       "    <tr style=\"text-align: right;\">\n",
       "      <th></th>\n",
       "      <th>code_module</th>\n",
       "      <th>date_registration</th>\n",
       "    </tr>\n",
       "  </thead>\n",
       "  <tbody>\n",
       "    <tr>\n",
       "      <th>1</th>\n",
       "      <td>BBB</td>\n",
       "      <td>7900</td>\n",
       "    </tr>\n",
       "    <tr>\n",
       "      <th>5</th>\n",
       "      <td>FFF</td>\n",
       "      <td>7751</td>\n",
       "    </tr>\n",
       "    <tr>\n",
       "      <th>3</th>\n",
       "      <td>DDD</td>\n",
       "      <td>6257</td>\n",
       "    </tr>\n",
       "  </tbody>\n",
       "</table>\n",
       "</div>"
      ],
      "text/plain": [
       "  code_module  date_registration\n",
       "1         BBB               7900\n",
       "5         FFF               7751\n",
       "3         DDD               6257"
      ]
     },
     "execution_count": 58,
     "metadata": {},
     "output_type": "execute_result"
    }
   ],
   "source": [
    "#считаем курсы по количеству регистраций\n",
    "popular_course = studentRegistration.groupby('code_module', as_index = False) \\\n",
    "                                    .agg({'date_registration': 'count'}) \\\n",
    "                                    .sort_values('date_registration', ascending = False)\n",
    "popular_course.head(3) # ТОП-3 по количеству регистраций"
   ]
  },
  {
   "cell_type": "code",
   "execution_count": 59,
   "metadata": {},
   "outputs": [
    {
     "data": {
      "text/html": [
       "<div>\n",
       "<style scoped>\n",
       "    .dataframe tbody tr th:only-of-type {\n",
       "        vertical-align: middle;\n",
       "    }\n",
       "\n",
       "    .dataframe tbody tr th {\n",
       "        vertical-align: top;\n",
       "    }\n",
       "\n",
       "    .dataframe thead th {\n",
       "        text-align: right;\n",
       "    }\n",
       "</style>\n",
       "<table border=\"1\" class=\"dataframe\">\n",
       "  <thead>\n",
       "    <tr style=\"text-align: right;\">\n",
       "      <th></th>\n",
       "      <th>code_module</th>\n",
       "      <th>date_unregistration</th>\n",
       "    </tr>\n",
       "  </thead>\n",
       "  <tbody>\n",
       "    <tr>\n",
       "      <th>5</th>\n",
       "      <td>FFF</td>\n",
       "      <td>2380</td>\n",
       "    </tr>\n",
       "    <tr>\n",
       "      <th>1</th>\n",
       "      <td>BBB</td>\n",
       "      <td>2377</td>\n",
       "    </tr>\n",
       "    <tr>\n",
       "      <th>3</th>\n",
       "      <td>DDD</td>\n",
       "      <td>2235</td>\n",
       "    </tr>\n",
       "    <tr>\n",
       "      <th>2</th>\n",
       "      <td>CCC</td>\n",
       "      <td>1947</td>\n",
       "    </tr>\n",
       "    <tr>\n",
       "      <th>4</th>\n",
       "      <td>EEE</td>\n",
       "      <td>718</td>\n",
       "    </tr>\n",
       "    <tr>\n",
       "      <th>6</th>\n",
       "      <td>GGG</td>\n",
       "      <td>289</td>\n",
       "    </tr>\n",
       "    <tr>\n",
       "      <th>0</th>\n",
       "      <td>AAA</td>\n",
       "      <td>126</td>\n",
       "    </tr>\n",
       "  </tbody>\n",
       "</table>\n",
       "</div>"
      ],
      "text/plain": [
       "  code_module  date_unregistration\n",
       "5         FFF                 2380\n",
       "1         BBB                 2377\n",
       "3         DDD                 2235\n",
       "2         CCC                 1947\n",
       "4         EEE                  718\n",
       "6         GGG                  289\n",
       "0         AAA                  126"
      ]
     },
     "execution_count": 59,
     "metadata": {},
     "output_type": "execute_result"
    }
   ],
   "source": [
    "#считаем количество ушедших с курса\n",
    "unpopular_course = studentRegistration.groupby('code_module', as_index = False) \\\n",
    "                                      .agg({'date_unregistration': 'count'}) \\\n",
    "                                      .sort_values('date_unregistration', ascending = False)\n",
    "unpopular_course"
   ]
  },
  {
   "cell_type": "code",
   "execution_count": 60,
   "metadata": {},
   "outputs": [
    {
     "data": {
      "text/html": [
       "<div>\n",
       "<style scoped>\n",
       "    .dataframe tbody tr th:only-of-type {\n",
       "        vertical-align: middle;\n",
       "    }\n",
       "\n",
       "    .dataframe tbody tr th {\n",
       "        vertical-align: top;\n",
       "    }\n",
       "\n",
       "    .dataframe thead th {\n",
       "        text-align: right;\n",
       "    }\n",
       "</style>\n",
       "<table border=\"1\" class=\"dataframe\">\n",
       "  <thead>\n",
       "    <tr style=\"text-align: right;\">\n",
       "      <th></th>\n",
       "      <th>code_module</th>\n",
       "      <th>date_registration</th>\n",
       "      <th>date_unregistration</th>\n",
       "      <th>per_unreg</th>\n",
       "    </tr>\n",
       "  </thead>\n",
       "  <tbody>\n",
       "    <tr>\n",
       "      <th>3</th>\n",
       "      <td>CCC</td>\n",
       "      <td>4426</td>\n",
       "      <td>1947</td>\n",
       "      <td>44.0</td>\n",
       "    </tr>\n",
       "    <tr>\n",
       "      <th>2</th>\n",
       "      <td>DDD</td>\n",
       "      <td>6257</td>\n",
       "      <td>2235</td>\n",
       "      <td>36.0</td>\n",
       "    </tr>\n",
       "    <tr>\n",
       "      <th>1</th>\n",
       "      <td>FFF</td>\n",
       "      <td>7751</td>\n",
       "      <td>2380</td>\n",
       "      <td>31.0</td>\n",
       "    </tr>\n",
       "  </tbody>\n",
       "</table>\n",
       "</div>"
      ],
      "text/plain": [
       "  code_module  date_registration  date_unregistration  per_unreg\n",
       "3         CCC               4426                 1947       44.0\n",
       "2         DDD               6257                 2235       36.0\n",
       "1         FFF               7751                 2380       31.0"
      ]
     },
     "execution_count": 60,
     "metadata": {},
     "output_type": "execute_result"
    }
   ],
   "source": [
    "# Оценить отток по курсу нельзя просто количеством ушедших, эта пустая цифра, она ничего нам не объясняет, \n",
    "# необходимо считать в процентах, ушедших от зарегистрированных, поэтому объединим датафреймы и посчитаем процент\n",
    "\n",
    "percent_unreg = popular_course.merge(unpopular_course, how = 'inner', on = 'code_module')\n",
    "\n",
    "percent_unreg['per_unreg'] = ((percent_unreg['date_unregistration'] / percent_unreg['date_registration']) * 100).round(0)\n",
    "\n",
    "percent_unreg.sort_values('per_unreg', ascending = False).head(3) # ТОП 3 курсы с самым большим оттоком"
   ]
  },
  {
   "cell_type": "code",
   "execution_count": 61,
   "metadata": {},
   "outputs": [],
   "source": [
    "# Ответ 4:\n",
    "    \n",
    "# ТОП 3 самых популярный курсов по количеству регистраций на них:\n",
    "    \n",
    "# BBB - 7900\n",
    "# FFF - 7751\n",
    "# DDD - 6257\n",
    "\n",
    "# ТОП 3 курсы с самым большим оттоком:\n",
    "    \n",
    "# ССС - 44 %\n",
    "# DDD - 36 %\n",
    "# FFF - 31 %\n",
    "\n",
    "# видим что курсы пересекаются в ТОПах,\n",
    "# что происходит после регистрации, почему люди уходят, необходимо разбираться.\n",
    "# Либо неправильно настроена реклама, привлекает не тех учеников, либо что-то с программой самих курсов. "
   ]
  },
  {
   "cell_type": "code",
   "execution_count": null,
   "metadata": {},
   "outputs": [],
   "source": []
  },
  {
   "cell_type": "code",
   "execution_count": 61,
   "metadata": {},
   "outputs": [],
   "source": [
    "# 5. Построй когортный (семестровый) анализ. \n",
    "# В период с начала 2013 по конец 2014 выяви семестр с самой низкой завершаемостью курсов \n",
    "# и самыми долгими средними сроками сдачи курсов."
   ]
  },
  {
   "cell_type": "code",
   "execution_count": 62,
   "metadata": {},
   "outputs": [],
   "source": [
    "# выявим семестр с самой низкой завершаемостью курсов, за когорты возьмем предметы(курсы)\n",
    "\n",
    "# посчитаем количество студентов которые пытались сдать экзамен\n",
    "course_attempts = studentAssessment.dropna() \\\n",
    "                                   .merge(assessments, how = 'inner', on = 'id_assessment') \\\n",
    "                                   .query('assessment_type == \"Exam\"') \\\n",
    "                                   .groupby(['code_presentation', 'code_module'], as_index = False) \\\n",
    "                                   .agg({'id_student': \"count\"}) \\\n",
    "                                   .rename(columns = {'id_student': 'attempt'})\n",
    "\n",
    "# посчитаем количество студентов которые сдали экзамен успешно\n",
    "success_course = studentAssessment.dropna() \\\n",
    "                                  .merge(assessments, how = 'inner', on = 'id_assessment') \\\n",
    "                                  .query('assessment_type == \"Exam\" and score >= 40.0') \\\n",
    "                                  .groupby(['code_presentation', 'code_module'], as_index = False) \\\n",
    "                                  .agg({'id_student': \"count\"}) \\\n",
    "                                  .rename(columns = {'id_student': 'success'})"
   ]
  },
  {
   "cell_type": "code",
   "execution_count": 63,
   "metadata": {},
   "outputs": [
    {
     "data": {
      "text/html": [
       "<div>\n",
       "<style scoped>\n",
       "    .dataframe tbody tr th:only-of-type {\n",
       "        vertical-align: middle;\n",
       "    }\n",
       "\n",
       "    .dataframe tbody tr th {\n",
       "        vertical-align: top;\n",
       "    }\n",
       "\n",
       "    .dataframe thead th {\n",
       "        text-align: right;\n",
       "    }\n",
       "</style>\n",
       "<table border=\"1\" class=\"dataframe\">\n",
       "  <thead>\n",
       "    <tr style=\"text-align: right;\">\n",
       "      <th></th>\n",
       "      <th>code_presentation</th>\n",
       "      <th>code_module</th>\n",
       "      <th>compleat</th>\n",
       "    </tr>\n",
       "  </thead>\n",
       "  <tbody>\n",
       "    <tr>\n",
       "      <th>0</th>\n",
       "      <td>2013B</td>\n",
       "      <td>DDD</td>\n",
       "      <td>83.72</td>\n",
       "    </tr>\n",
       "    <tr>\n",
       "      <th>1</th>\n",
       "      <td>2013J</td>\n",
       "      <td>DDD</td>\n",
       "      <td>90.70</td>\n",
       "    </tr>\n",
       "    <tr>\n",
       "      <th>2</th>\n",
       "      <td>2014B</td>\n",
       "      <td>CCC</td>\n",
       "      <td>88.89</td>\n",
       "    </tr>\n",
       "    <tr>\n",
       "      <th>3</th>\n",
       "      <td>2014B</td>\n",
       "      <td>DDD</td>\n",
       "      <td>92.56</td>\n",
       "    </tr>\n",
       "    <tr>\n",
       "      <th>4</th>\n",
       "      <td>2014J</td>\n",
       "      <td>CCC</td>\n",
       "      <td>87.24</td>\n",
       "    </tr>\n",
       "    <tr>\n",
       "      <th>5</th>\n",
       "      <td>2014J</td>\n",
       "      <td>DDD</td>\n",
       "      <td>88.63</td>\n",
       "    </tr>\n",
       "  </tbody>\n",
       "</table>\n",
       "</div>"
      ],
      "text/plain": [
       "  code_presentation code_module  compleat\n",
       "0             2013B         DDD     83.72\n",
       "1             2013J         DDD     90.70\n",
       "2             2014B         CCC     88.89\n",
       "3             2014B         DDD     92.56\n",
       "4             2014J         CCC     87.24\n",
       "5             2014J         DDD     88.63"
      ]
     },
     "execution_count": 63,
     "metadata": {},
     "output_type": "execute_result"
    }
   ],
   "source": [
    "# соединим два предыдущих датафрейма\n",
    "compleat_course = course_attempts.merge(success_course, how = 'inner', on = ['code_presentation', 'code_module']) \\\n",
    "                                 .assign(compleat = (success_course.success / course_attempts.attempt)* 100) \\\n",
    "                                 .round(2) \\\n",
    "                                 .sort_values('code_presentation') \\\n",
    "                                 .drop(['attempt', 'success'], axis=1)\n",
    "\n",
    "compleat_course"
   ]
  },
  {
   "cell_type": "code",
   "execution_count": 64,
   "metadata": {},
   "outputs": [
    {
     "data": {
      "text/html": [
       "<div>\n",
       "<style scoped>\n",
       "    .dataframe tbody tr th:only-of-type {\n",
       "        vertical-align: middle;\n",
       "    }\n",
       "\n",
       "    .dataframe tbody tr th {\n",
       "        vertical-align: top;\n",
       "    }\n",
       "\n",
       "    .dataframe thead th {\n",
       "        text-align: right;\n",
       "    }\n",
       "</style>\n",
       "<table border=\"1\" class=\"dataframe\">\n",
       "  <thead>\n",
       "    <tr style=\"text-align: right;\">\n",
       "      <th></th>\n",
       "      <th>code_module</th>\n",
       "      <th>2013B</th>\n",
       "      <th>2013J</th>\n",
       "      <th>2014B</th>\n",
       "      <th>2014J</th>\n",
       "    </tr>\n",
       "  </thead>\n",
       "  <tbody>\n",
       "    <tr>\n",
       "      <th>0</th>\n",
       "      <td>DDD</td>\n",
       "      <td>83.72</td>\n",
       "      <td>90.7</td>\n",
       "      <td>92.560</td>\n",
       "      <td>88.630</td>\n",
       "    </tr>\n",
       "    <tr>\n",
       "      <th>1</th>\n",
       "      <td>CCC</td>\n",
       "      <td>0.00</td>\n",
       "      <td>0.0</td>\n",
       "      <td>88.890</td>\n",
       "      <td>87.240</td>\n",
       "    </tr>\n",
       "    <tr>\n",
       "      <th>2</th>\n",
       "      <td>total_mean</td>\n",
       "      <td>83.72</td>\n",
       "      <td>90.7</td>\n",
       "      <td>90.725</td>\n",
       "      <td>87.935</td>\n",
       "    </tr>\n",
       "  </tbody>\n",
       "</table>\n",
       "</div>"
      ],
      "text/plain": [
       "  code_module  2013B  2013J   2014B   2014J\n",
       "0         DDD  83.72   90.7  92.560  88.630\n",
       "1         CCC   0.00    0.0  88.890  87.240\n",
       "2  total_mean  83.72   90.7  90.725  87.935"
      ]
     },
     "execution_count": 64,
     "metadata": {},
     "output_type": "execute_result"
    }
   ],
   "source": [
    "# теперь сделаем табличку, для лучшего визуального восприятия цифр :)\n",
    "\n",
    "cohort_pivot = compleat_course.pivot_table(index='code_module', columns='code_presentation', values='compleat') \\\n",
    "                              .sort_values('code_module', ascending = False)\n",
    "\n",
    "cohort_pivot.columns.name = None\n",
    "\n",
    "cohort_pivot =  cohort_pivot.reset_index() \\\n",
    "                            .append(cohort_pivot.mean(numeric_only=True), ignore_index=True) \\\n",
    "                            .fillna(0)\n",
    "# посчитаем среднюю завершаемость по каждому семестру\n",
    "cohort_pivot['code_module'] = cohort_pivot.code_module.replace(0,'total_mean')\n",
    "\n",
    "cohort_pivot"
   ]
  },
  {
   "cell_type": "code",
   "execution_count": 65,
   "metadata": {},
   "outputs": [],
   "source": [
    "# Вывод: Видно, что экзаменов по предмету CCC не было в 2013  году, \n",
    "#        поэтому завершаемость мы можем рассматривать только по предмету DDD в 2013 году.\n",
    "\n",
    "#        В 2014 году появился еще один предмет с экзаменом.  \n",
    "#        Самая низкая заверщаемость получилась в сeместре 2013B"
   ]
  },
  {
   "cell_type": "code",
   "execution_count": 66,
   "metadata": {},
   "outputs": [
    {
     "data": {
      "text/html": [
       "<div>\n",
       "<style scoped>\n",
       "    .dataframe tbody tr th:only-of-type {\n",
       "        vertical-align: middle;\n",
       "    }\n",
       "\n",
       "    .dataframe tbody tr th {\n",
       "        vertical-align: top;\n",
       "    }\n",
       "\n",
       "    .dataframe thead th {\n",
       "        text-align: right;\n",
       "    }\n",
       "</style>\n",
       "<table border=\"1\" class=\"dataframe\">\n",
       "  <thead>\n",
       "    <tr style=\"text-align: right;\">\n",
       "      <th></th>\n",
       "      <th>code_module</th>\n",
       "      <th>code_presentation</th>\n",
       "      <th>mean</th>\n",
       "    </tr>\n",
       "  </thead>\n",
       "  <tbody>\n",
       "    <tr>\n",
       "      <th>0</th>\n",
       "      <td>CCC</td>\n",
       "      <td>2014B</td>\n",
       "      <td>231.62</td>\n",
       "    </tr>\n",
       "    <tr>\n",
       "      <th>1</th>\n",
       "      <td>CCC</td>\n",
       "      <td>2014J</td>\n",
       "      <td>244.39</td>\n",
       "    </tr>\n",
       "    <tr>\n",
       "      <th>2</th>\n",
       "      <td>DDD</td>\n",
       "      <td>2013B</td>\n",
       "      <td>230.18</td>\n",
       "    </tr>\n",
       "    <tr>\n",
       "      <th>3</th>\n",
       "      <td>DDD</td>\n",
       "      <td>2013J</td>\n",
       "      <td>239.51</td>\n",
       "    </tr>\n",
       "    <tr>\n",
       "      <th>4</th>\n",
       "      <td>DDD</td>\n",
       "      <td>2014B</td>\n",
       "      <td>234.94</td>\n",
       "    </tr>\n",
       "    <tr>\n",
       "      <th>5</th>\n",
       "      <td>DDD</td>\n",
       "      <td>2014J</td>\n",
       "      <td>242.79</td>\n",
       "    </tr>\n",
       "  </tbody>\n",
       "</table>\n",
       "</div>"
      ],
      "text/plain": [
       "  code_module code_presentation    mean\n",
       "0         CCC             2014B  231.62\n",
       "1         CCC             2014J  244.39\n",
       "2         DDD             2013B  230.18\n",
       "3         DDD             2013J  239.51\n",
       "4         DDD             2014B  234.94\n",
       "5         DDD             2014J  242.79"
      ]
     },
     "execution_count": 66,
     "metadata": {},
     "output_type": "execute_result"
    }
   ],
   "source": [
    "# теперь выявим семестр с самыми долгими средними сроками сдачи курсов\n",
    "# сгруппируем по предметам(это и будут когорты) и по семестрам и посчитаем среднее\n",
    "mean = studentAssessment.merge(assessments, how = 'inner', on = 'id_assessment') \\\n",
    "                .query('assessment_type == \"Exam\"') \\\n",
    "                .groupby(['code_module', 'code_presentation'], as_index = False) \\\n",
    "                .agg({'date_submitted': 'mean'}) \\\n",
    "                .rename(columns = {'date_submitted': 'mean'}) \\\n",
    "                .round(2)\n",
    "mean"
   ]
  },
  {
   "cell_type": "code",
   "execution_count": 67,
   "metadata": {},
   "outputs": [
    {
     "data": {
      "text/html": [
       "<div>\n",
       "<style scoped>\n",
       "    .dataframe tbody tr th:only-of-type {\n",
       "        vertical-align: middle;\n",
       "    }\n",
       "\n",
       "    .dataframe tbody tr th {\n",
       "        vertical-align: top;\n",
       "    }\n",
       "\n",
       "    .dataframe thead th {\n",
       "        text-align: right;\n",
       "    }\n",
       "</style>\n",
       "<table border=\"1\" class=\"dataframe\">\n",
       "  <thead>\n",
       "    <tr style=\"text-align: right;\">\n",
       "      <th></th>\n",
       "      <th>code_module</th>\n",
       "      <th>2013B</th>\n",
       "      <th>2013J</th>\n",
       "      <th>2014B</th>\n",
       "      <th>2014J</th>\n",
       "    </tr>\n",
       "  </thead>\n",
       "  <tbody>\n",
       "    <tr>\n",
       "      <th>0</th>\n",
       "      <td>DDD</td>\n",
       "      <td>230.18</td>\n",
       "      <td>239.51</td>\n",
       "      <td>234.94</td>\n",
       "      <td>242.79</td>\n",
       "    </tr>\n",
       "    <tr>\n",
       "      <th>1</th>\n",
       "      <td>CCC</td>\n",
       "      <td>0.00</td>\n",
       "      <td>0.00</td>\n",
       "      <td>231.62</td>\n",
       "      <td>244.39</td>\n",
       "    </tr>\n",
       "    <tr>\n",
       "      <th>2</th>\n",
       "      <td>total_mean</td>\n",
       "      <td>230.18</td>\n",
       "      <td>239.51</td>\n",
       "      <td>233.28</td>\n",
       "      <td>243.59</td>\n",
       "    </tr>\n",
       "  </tbody>\n",
       "</table>\n",
       "</div>"
      ],
      "text/plain": [
       "  code_module   2013B   2013J   2014B   2014J\n",
       "0         DDD  230.18  239.51  234.94  242.79\n",
       "1         CCC    0.00    0.00  231.62  244.39\n",
       "2  total_mean  230.18  239.51  233.28  243.59"
      ]
     },
     "execution_count": 67,
     "metadata": {},
     "output_type": "execute_result"
    }
   ],
   "source": [
    "# опять стоим табличку для лучшего понимания\n",
    "cohort_mean = mean.pivot_table(index='code_module', columns='code_presentation', values='mean') \\\n",
    "                              .sort_values('code_module', ascending = False)\n",
    "\n",
    "cohort_mean.columns.name = None\n",
    "\n",
    "cohort_mean =  cohort_mean.reset_index() \\\n",
    "                          .append(cohort_mean.mean(numeric_only=True), ignore_index=True) \\\n",
    "                          .fillna(0)\n",
    "# считаем среднее по сроку сдачи\n",
    "cohort_mean['code_module'] = cohort_mean.code_module.replace(0,'total_mean')\n",
    "\n",
    "cohort_mean"
   ]
  },
  {
   "cell_type": "code",
   "execution_count": 69,
   "metadata": {},
   "outputs": [],
   "source": [
    "# Вывод: Семестр с самыми долгими средними сроками сдачи курсов - 2014J"
   ]
  },
  {
   "cell_type": "code",
   "execution_count": 68,
   "metadata": {},
   "outputs": [],
   "source": [
    "# Ответ 5:  Самая низкая заверщаемость получилась в сeместре 2013B\n",
    "#           Семестр с самыми долгими средними сроками сдачи курсов - 2014J"
   ]
  },
  {
   "cell_type": "code",
   "execution_count": 69,
   "metadata": {},
   "outputs": [],
   "source": [
    "# 6. Используя python, построй адаптированные RFM-кластеры студентов, чтобы качественно оценить свою аудиторию. \n",
    "# В адаптированной кластеризации используй следующие метрики: \n",
    "#     R - среднее время сдачи одного экзамена, \n",
    "#     F - завершаемость курсов, \n",
    "#     M - среднее количество баллов, получаемое за экзамен. "
   ]
  },
  {
   "cell_type": "code",
   "execution_count": 70,
   "metadata": {},
   "outputs": [],
   "source": [
    "# Для анализа RFM сгруппируем наши данные и возьмем только тех студентов, которые сдавали экзамен по курсу.\n",
    "df_for_RFM = studentAssessment.merge(assessments, how = 'inner', on = 'id_assessment') \\\n",
    "                       .query('assessment_type == \"Exam\"') \\\n",
    "                       .groupby(['id_student', 'date_submitted','score'], as_index = False) \\\n",
    "                       .agg({'date_submitted': 'mean', 'score': 'mean'})"
   ]
  },
  {
   "cell_type": "code",
   "execution_count": 71,
   "metadata": {},
   "outputs": [
    {
     "data": {
      "text/plain": [
       "count    4959.000000\n",
       "mean      238.483565\n",
       "std         5.717577\n",
       "min       229.000000\n",
       "25%       234.000000\n",
       "50%       241.000000\n",
       "75%       243.000000\n",
       "max       285.000000\n",
       "Name: date_submitted, dtype: float64"
      ]
     },
     "execution_count": 71,
     "metadata": {},
     "output_type": "execute_result"
    },
    {
     "data": {
      "image/png": "[encoded data removed]",
      "text/plain": [
       "<Figure size 432x288 with 1 Axes>"
      ]
     },
     "metadata": {
      "needs_background": "light"
     },
     "output_type": "display_data"
    }
   ],
   "source": [
    "# для значения R (среднее время сдачи проекта), посмотрим распределение данных и описание.\n",
    "# оценив данные определимся с границами метрики:\n",
    "# 1 - меньше 234 (взяла это значение 25%)\n",
    "# 2 - от 234 до 241 (до среднего)\n",
    "# 3 - больше 241 (те студенты, которые потратили времени больше среднего)  \n",
    "\n",
    "sns.histplot(x = 'date_submitted', data = df_for_RFM )\n",
    "df_for_RFM.date_submitted.describe()"
   ]
  },
  {
   "cell_type": "code",
   "execution_count": 72,
   "metadata": {},
   "outputs": [
    {
     "data": {
      "text/plain": [
       "count    4959.000000\n",
       "mean       65.572898\n",
       "std        20.579186\n",
       "min         0.000000\n",
       "25%        51.000000\n",
       "50%        67.000000\n",
       "75%        82.000000\n",
       "max       100.000000\n",
       "Name: score, dtype: float64"
      ]
     },
     "execution_count": 72,
     "metadata": {},
     "output_type": "execute_result"
    },
    {
     "data": {
      "image/png": "[encoded data removed]",
      "text/plain": [
       "<Figure size 432x288 with 1 Axes>"
      ]
     },
     "metadata": {
      "needs_background": "light"
     },
     "output_type": "display_data"
    }
   ],
   "source": [
    "# для значения М (среднее количество баллов полученное за экзамен), посмотрим распределение данных и описание.\n",
    "# оценив данные определимся с границами метрики:\n",
    "# 1 - меньше 51 (взяла это так же значение 25%)\n",
    "# 2 - от 51 до 67 (до среднего)\n",
    "# 3 - больше 67 (те студенты, которые получили больше всего баллов) \n",
    "\n",
    "sns.histplot(x = 'score', data = df_for_RFM )\n",
    "df_for_RFM.score.describe()"
   ]
  },
  {
   "cell_type": "code",
   "execution_count": 73,
   "metadata": {},
   "outputs": [],
   "source": [
    "# для значения F (завершаемость курса) определимся с границами метрики:\n",
    "# 0 - до 40 баллов (не завершил)\n",
    "# 2 - 40 и более (завершил)"
   ]
  },
  {
   "cell_type": "code",
   "execution_count": 74,
   "metadata": {},
   "outputs": [],
   "source": [
    "# Составим формулы для подсчет метрик R и M:\n",
    "\n",
    "def R (df):\n",
    "    \n",
    "    if df['date_submitted'] <= 234:\n",
    "        return '1'\n",
    "    elif 241 >= df['date_submitted'] > 234:\n",
    "        return '2'\n",
    "    elif df['date_submitted'] > 241:\n",
    "        return '3'\n",
    "\n",
    "def M (df):\n",
    "    \n",
    "    if df['score'] < 51:\n",
    "        return '1'\n",
    "    elif 67 >= df['score'] >= 51:\n",
    "        return '2'\n",
    "    elif df['score'] > 67:\n",
    "        return '3'"
   ]
  },
  {
   "cell_type": "code",
   "execution_count": 75,
   "metadata": {},
   "outputs": [],
   "source": [
    "df_for_RFM['R'] = df_for_RFM.apply(R, axis = 1) # создаем колонку с метрикой R"
   ]
  },
  {
   "cell_type": "code",
   "execution_count": 76,
   "metadata": {},
   "outputs": [],
   "source": [
    "df_for_RFM['F'] = ['1' if x >= 40 else '0' for x in df_for_RFM['score']] # создаем колонку с метрикой F"
   ]
  },
  {
   "cell_type": "code",
   "execution_count": 77,
   "metadata": {},
   "outputs": [],
   "source": [
    "df_for_RFM['M'] = df_for_RFM.apply(M, axis = 1) # создаем колонку с метрикой M"
   ]
  },
  {
   "cell_type": "code",
   "execution_count": 78,
   "metadata": {},
   "outputs": [],
   "source": [
    "df_for_RFM['RFM_score'] = df_for_RFM['R'] + df_for_RFM['F'] + df_for_RFM['M'] # создаем колонку с метрикой RFM"
   ]
  },
  {
   "cell_type": "code",
   "execution_count": 79,
   "metadata": {},
   "outputs": [
    {
     "data": {
      "text/html": [
       "<div>\n",
       "<style scoped>\n",
       "    .dataframe tbody tr th:only-of-type {\n",
       "        vertical-align: middle;\n",
       "    }\n",
       "\n",
       "    .dataframe tbody tr th {\n",
       "        vertical-align: top;\n",
       "    }\n",
       "\n",
       "    .dataframe thead th {\n",
       "        text-align: right;\n",
       "    }\n",
       "</style>\n",
       "<table border=\"1\" class=\"dataframe\">\n",
       "  <thead>\n",
       "    <tr style=\"text-align: right;\">\n",
       "      <th></th>\n",
       "      <th>id_student</th>\n",
       "      <th>date_submitted</th>\n",
       "      <th>score</th>\n",
       "      <th>R</th>\n",
       "      <th>F</th>\n",
       "      <th>M</th>\n",
       "      <th>RFM_score</th>\n",
       "    </tr>\n",
       "  </thead>\n",
       "  <tbody>\n",
       "    <tr>\n",
       "      <th>0</th>\n",
       "      <td>23698</td>\n",
       "      <td>243</td>\n",
       "      <td>80.0</td>\n",
       "      <td>3</td>\n",
       "      <td>1</td>\n",
       "      <td>3</td>\n",
       "      <td>313</td>\n",
       "    </tr>\n",
       "    <tr>\n",
       "      <th>1</th>\n",
       "      <td>24213</td>\n",
       "      <td>236</td>\n",
       "      <td>58.0</td>\n",
       "      <td>2</td>\n",
       "      <td>1</td>\n",
       "      <td>2</td>\n",
       "      <td>212</td>\n",
       "    </tr>\n",
       "    <tr>\n",
       "      <th>2</th>\n",
       "      <td>27116</td>\n",
       "      <td>243</td>\n",
       "      <td>96.0</td>\n",
       "      <td>3</td>\n",
       "      <td>1</td>\n",
       "      <td>3</td>\n",
       "      <td>313</td>\n",
       "    </tr>\n",
       "    <tr>\n",
       "      <th>3</th>\n",
       "      <td>28046</td>\n",
       "      <td>237</td>\n",
       "      <td>40.0</td>\n",
       "      <td>2</td>\n",
       "      <td>1</td>\n",
       "      <td>1</td>\n",
       "      <td>211</td>\n",
       "    </tr>\n",
       "    <tr>\n",
       "      <th>4</th>\n",
       "      <td>28787</td>\n",
       "      <td>243</td>\n",
       "      <td>44.0</td>\n",
       "      <td>3</td>\n",
       "      <td>1</td>\n",
       "      <td>1</td>\n",
       "      <td>311</td>\n",
       "    </tr>\n",
       "    <tr>\n",
       "      <th>...</th>\n",
       "      <td>...</td>\n",
       "      <td>...</td>\n",
       "      <td>...</td>\n",
       "      <td>...</td>\n",
       "      <td>...</td>\n",
       "      <td>...</td>\n",
       "      <td>...</td>\n",
       "    </tr>\n",
       "    <tr>\n",
       "      <th>4954</th>\n",
       "      <td>2694886</td>\n",
       "      <td>236</td>\n",
       "      <td>69.0</td>\n",
       "      <td>2</td>\n",
       "      <td>1</td>\n",
       "      <td>3</td>\n",
       "      <td>213</td>\n",
       "    </tr>\n",
       "    <tr>\n",
       "      <th>4955</th>\n",
       "      <td>2694933</td>\n",
       "      <td>230</td>\n",
       "      <td>73.0</td>\n",
       "      <td>1</td>\n",
       "      <td>1</td>\n",
       "      <td>3</td>\n",
       "      <td>113</td>\n",
       "    </tr>\n",
       "    <tr>\n",
       "      <th>4956</th>\n",
       "      <td>2695608</td>\n",
       "      <td>237</td>\n",
       "      <td>73.0</td>\n",
       "      <td>2</td>\n",
       "      <td>1</td>\n",
       "      <td>3</td>\n",
       "      <td>213</td>\n",
       "    </tr>\n",
       "    <tr>\n",
       "      <th>4957</th>\n",
       "      <td>2697181</td>\n",
       "      <td>230</td>\n",
       "      <td>80.0</td>\n",
       "      <td>1</td>\n",
       "      <td>1</td>\n",
       "      <td>3</td>\n",
       "      <td>113</td>\n",
       "    </tr>\n",
       "    <tr>\n",
       "      <th>4958</th>\n",
       "      <td>2698251</td>\n",
       "      <td>234</td>\n",
       "      <td>44.0</td>\n",
       "      <td>1</td>\n",
       "      <td>1</td>\n",
       "      <td>1</td>\n",
       "      <td>111</td>\n",
       "    </tr>\n",
       "  </tbody>\n",
       "</table>\n",
       "<p>4959 rows × 7 columns</p>\n",
       "</div>"
      ],
      "text/plain": [
       "      id_student  date_submitted  score  R  F  M RFM_score\n",
       "0          23698             243   80.0  3  1  3       313\n",
       "1          24213             236   58.0  2  1  2       212\n",
       "2          27116             243   96.0  3  1  3       313\n",
       "3          28046             237   40.0  2  1  1       211\n",
       "4          28787             243   44.0  3  1  1       311\n",
       "...          ...             ...    ... .. .. ..       ...\n",
       "4954     2694886             236   69.0  2  1  3       213\n",
       "4955     2694933             230   73.0  1  1  3       113\n",
       "4956     2695608             237   73.0  2  1  3       213\n",
       "4957     2697181             230   80.0  1  1  3       113\n",
       "4958     2698251             234   44.0  1  1  1       111\n",
       "\n",
       "[4959 rows x 7 columns]"
      ]
     },
     "execution_count": 79,
     "metadata": {},
     "output_type": "execute_result"
    }
   ],
   "source": [
    "df_for_RFM"
   ]
  },
  {
   "cell_type": "code",
   "execution_count": 80,
   "metadata": {},
   "outputs": [
    {
     "data": {
      "text/plain": [
       "<Figure size 1440x1280 with 0 Axes>"
      ]
     },
     "metadata": {},
     "output_type": "display_data"
    },
    {
     "data": {
      "image/png": "[encoded data removed]",
      "text/plain": [
       "<Figure size 432x288 with 1 Axes>"
      ]
     },
     "metadata": {
      "needs_background": "light"
     },
     "output_type": "display_data"
    }
   ],
   "source": [
    "# Теперь составим график, что бы посмотреть каких студентов больше всего\n",
    "\n",
    "fig=plt.figure(figsize=(18, 16), dpi= 80, facecolor='w', edgecolor='k')\n",
    "df_for_RFM.groupby('RFM_score').agg({'id_student': 'count'}).sort_values('id_student').plot(kind='bar', colormap='Blues_r')\n",
    "plt.show()"
   ]
  },
  {
   "cell_type": "code",
   "execution_count": 81,
   "metadata": {},
   "outputs": [],
   "source": [
    "# Выводы:\n",
    "#     Больше всего студентов которые долго сдавали экзамен, сдали его, и имеют высоки оценки.\n",
    "#     За ними следуют студенты, которые потратили времени меньше среднего, сдали экзамен и при этом получили высокие оценки.\n",
    "#     Доля студентов, которые не сдали экзамен значительно мала, в отличии от тех, кто с ним справился. "
   ]
  },
  {
   "cell_type": "code",
   "execution_count": null,
   "metadata": {},
   "outputs": [],
   "source": []
  }
 ],
 "metadata": {
  "kernelspec": {
   "display_name": "Python 3",
   "language": "python",
   "name": "python3"
  },
  "language_info": {
   "codemirror_mode": {
    "name": "ipython",
    "version": 3
   },
   "file_extension": ".py",
   "mimetype": "text/x-python",
   "name": "python",
   "nbconvert_exporter": "python",
   "pygments_lexer": "ipython3",
   "version": "3.7.3"
  }
 },
 "nbformat": 4,
 "nbformat_minor": 4
}
